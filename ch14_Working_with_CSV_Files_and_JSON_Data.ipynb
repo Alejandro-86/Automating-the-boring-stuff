{
  "nbformat": 4,
  "nbformat_minor": 0,
  "metadata": {
    "colab": {
      "name": "ch14 Working with CSV Files and JSON Data.ipynb",
      "provenance": [],
      "toc_visible": true
    },
    "kernelspec": {
      "name": "python3",
      "display_name": "Python 3"
    }
  },
  "cells": [
    {
      "cell_type": "markdown",
      "metadata": {
        "id": "4tPtR_tl2855",
        "colab_type": "text"
      },
      "source": [
        "# Working with CSV Files and JSON Data\n",
        "\n",
        "\n",
        "CSV stands for “comma-separated values,” and CSV files are simplified spreadsheets stored as plaintext files. Python’s csv module makes it easy to parse CSV files.\n",
        "\n",
        "\n",
        "JSON (pronounced “JAY-sawn” or “Jason”—it doesn’t matter how because either way people will say you’re pronouncing it wrong) is a format that stores information as JavaScript source code in plaintext files."
      ]
    },
    {
      "cell_type": "markdown",
      "metadata": {
        "id": "vexR-kHONdwf",
        "colab_type": "text"
      },
      "source": [
        "## CSV Module\n",
        "\n"
      ]
    },
    {
      "cell_type": "code",
      "metadata": {
        "id": "Lmp07Ni_PBj3",
        "colab_type": "code",
        "colab": {
          "base_uri": "https://localhost:8080/",
          "height": 134
        },
        "outputId": "af2f4e49-8ead-4a7a-e6ef-0c632d1de8a0"
      },
      "source": [
        "import csv\n",
        "\n",
        "file = open('example.csv')\n",
        "data = list(csv.reader(file))\n",
        "data"
      ],
      "execution_count": 29,
      "outputs": [
        {
          "output_type": "execute_result",
          "data": {
            "text/plain": [
              "[['4/5/2014 13:34', 'Apples', '73'],\n",
              " ['4/5/2014 3:41', 'Cherries', '85'],\n",
              " ['4/6/2014 12:46', 'Pears', '14'],\n",
              " ['4/8/2014 8:59', 'Oranges', '52'],\n",
              " ['4/10/2014 2:07', 'Apples', '152'],\n",
              " ['4/10/2014 18:10', 'Bananas', '23'],\n",
              " ['4/10/2014 2:40', 'Strawberries', '98']]"
            ]
          },
          "metadata": {
            "tags": []
          },
          "execution_count": 29
        }
      ]
    },
    {
      "cell_type": "code",
      "metadata": {
        "id": "nzlmc480aCif",
        "colab_type": "code",
        "colab": {
          "base_uri": "https://localhost:8080/",
          "height": 134
        },
        "outputId": "ab1cac37-8193-433a-febd-c8e3f17621d8"
      },
      "source": [
        "for i, row in enumerate(data):\n",
        "  print('Row #' + str(i+1) + ' ' + str(row))"
      ],
      "execution_count": 33,
      "outputs": [
        {
          "output_type": "stream",
          "text": [
            "Row #1 ['4/5/2014 13:34', 'Apples', '73']\n",
            "Row #2 ['4/5/2014 3:41', 'Cherries', '85']\n",
            "Row #3 ['4/6/2014 12:46', 'Pears', '14']\n",
            "Row #4 ['4/8/2014 8:59', 'Oranges', '52']\n",
            "Row #5 ['4/10/2014 2:07', 'Apples', '152']\n",
            "Row #6 ['4/10/2014 18:10', 'Bananas', '23']\n",
            "Row #7 ['4/10/2014 2:40', 'Strawberries', '98']\n"
          ],
          "name": "stdout"
        }
      ]
    },
    {
      "cell_type": "markdown",
      "metadata": {
        "id": "sb2kaom6yE5-",
        "colab_type": "text"
      },
      "source": [
        "### Writer Objects"
      ]
    },
    {
      "cell_type": "code",
      "metadata": {
        "id": "IOevwlE9yGnc",
        "colab_type": "code",
        "colab": {}
      },
      "source": [
        "outputF = open('output.csv', 'w', newline='')\n",
        "outputW = csv.writer(outputF)\n",
        "outputW.writerow(['spam', 'eggs', 'bacon', 'ham'])\n",
        "outputW.writerow(['Hello, world!', 'eggs', 'bacon', 'ham'])\n",
        "outputW.writerow([1, 2, 3.141592, 4])\n",
        "outputF.close()"
      ],
      "execution_count": 0,
      "outputs": []
    },
    {
      "cell_type": "markdown",
      "metadata": {
        "id": "fkwwEOqB1xfW",
        "colab_type": "text"
      },
      "source": [
        "### The delimiter and lineterminator Keyword Arguments"
      ]
    },
    {
      "cell_type": "code",
      "metadata": {
        "id": "4ltBK0d82f1B",
        "colab_type": "code",
        "colab": {}
      },
      "source": [
        "csvFile = open('example.tsv', 'w', newline='')\n",
        "csvWriter = csv.writer(csvFile, delimiter = '\\t', lineterminator='\\n\\n')\n",
        "csvWriter.writerow(['apples', 'oranges', 'grapes'])\n",
        "csvWriter.writerow(['eggs', 'bacon', 'ham'])\n",
        "csvWriter.writerow(['spam', 'spam', 'spam', 'spam', 'spam', 'spam'])\n",
        "csvFile.close()"
      ],
      "execution_count": 0,
      "outputs": []
    },
    {
      "cell_type": "markdown",
      "metadata": {
        "id": "gOcYJq0l3aIr",
        "colab_type": "text"
      },
      "source": [
        "## JSON and APIs\n",
        "\n",
        "JavaScript Object Notation is a popular way to format data as a single human-readable string. JSON is the native way that JavaScript programs write their data structures and usually resembles what Python’s pprint() function would produce. You don’t need to know JavaScript in order to work with JSON-formatted data\n",
        "\n",
        "Here’s an example of data formatted as JSON:\n",
        "\n",
        "\n",
        "{\"name\": \"Zophie\", \"isCat\": true,\n",
        " \"miceCaught\": 0, \"napsTaken\": 37.5,\n",
        " \"felineIQ\": null}\n",
        " \n",
        " JSON is useful to know, because many websites offer JSON content as a way for programs to interact with the website. This is known as providing an application programming interface (API). Accessing an API is the same as accessing any other web page via a URL. The difference is that the data returned by an API is formatted (with JSON, for example) for machines; APIs aren’t easy for people to read.\n",
        "\n"
      ]
    },
    {
      "cell_type": "markdown",
      "metadata": {
        "id": "uLKRssPp_yBP",
        "colab_type": "text"
      },
      "source": [
        "### JSON module\n",
        "\n"
      ]
    },
    {
      "cell_type": "code",
      "metadata": {
        "id": "BUITe3BuALAz",
        "colab_type": "code",
        "colab": {
          "base_uri": "https://localhost:8080/",
          "height": 33
        },
        "outputId": "1fe1cce0-0cf4-4cde-e0d0-fbabb9e91fb9"
      },
      "source": [
        "import json\n",
        "\n",
        "stringOfJsonData = '{\"name\": \"Zophie\", \"isCat\": true, \"miceCaught\": 0, \"felineIQ\": null}'\n",
        "\n",
        "jsonDataAsPythonValue = json.loads(stringOfJsonData)\n",
        "jsonDataAsPythonValue"
      ],
      "execution_count": 50,
      "outputs": [
        {
          "output_type": "execute_result",
          "data": {
            "text/plain": [
              "{'felineIQ': None, 'isCat': True, 'miceCaught': 0, 'name': 'Zophie'}"
            ]
          },
          "metadata": {
            "tags": []
          },
          "execution_count": 50
        }
      ]
    },
    {
      "cell_type": "code",
      "metadata": {
        "id": "DXOS8uesAhJT",
        "colab_type": "code",
        "colab": {
          "base_uri": "https://localhost:8080/",
          "height": 33
        },
        "outputId": "f0637303-cfd1-4e6c-9551-690585f67c70"
      },
      "source": [
        "pythonValue = {'isCat': True, 'miceCaught': 0, 'name': 'Zophie','felineIQ': None}\n",
        "jsonDataAsPythonValue = json.dumps(stringOfJsonData)\n",
        "jsonDataAsPythonValue"
      ],
      "execution_count": 52,
      "outputs": [
        {
          "output_type": "execute_result",
          "data": {
            "text/plain": [
              "'\"{\\\\\"name\\\\\": \\\\\"Zophie\\\\\", \\\\\"isCat\\\\\": true, \\\\\"miceCaught\\\\\": 0, \\\\\"felineIQ\\\\\": null}\"'"
            ]
          },
          "metadata": {
            "tags": []
          },
          "execution_count": 52
        }
      ]
    },
    {
      "cell_type": "markdown",
      "metadata": {
        "id": "55EQJ6qYA-nf",
        "colab_type": "text"
      },
      "source": [
        "Project: Fetching Current Weather Data"
      ]
    },
    {
      "cell_type": "code",
      "metadata": {
        "id": "MYoF1dVCA98c",
        "colab_type": "code",
        "colab": {
          "base_uri": "https://localhost:8080/",
          "height": 268
        },
        "outputId": "63d93007-cb55-4003-93a1-3784957f8284"
      },
      "source": [
        "import requests\n",
        "import sys\n",
        "\n",
        "\n",
        "# Enter your API key here \n",
        "api_key = \"dcc8099160c234ce7f18fc1a2b3338dd\"\n",
        "  \n",
        "# base_url variable to store url \n",
        "base_url = \"http://api.openweathermap.org/data/2.5/weather?\"\n",
        "  \n",
        "# Give city name \n",
        "city_name = input(\"Enter city name : \") \n",
        "  \n",
        "# complete_url variable to store \n",
        "# complete url address \n",
        "complete_url = base_url + \"appid=\" + api_key + \"&q=\" + city_name \n",
        "\n",
        "response = requests.get(complete_url) \n",
        "response.raise_for_status()\n",
        "weatherData = json.loads(response.text) \n",
        "for w in weatherData:\n",
        "  print(w, weatherData[w])"
      ],
      "execution_count": 86,
      "outputs": [
        {
          "output_type": "stream",
          "text": [
            "Enter city name : Southampton\n",
            "coord {'lon': -1.4, 'lat': 50.9}\n",
            "weather [{'id': 500, 'main': 'Rain', 'description': 'light rain', 'icon': '10n'}]\n",
            "base stations\n",
            "main {'temp': 279.89, 'pressure': 998, 'humidity': 93, 'temp_min': 277.59, 'temp_max': 282.59}\n",
            "visibility 8000\n",
            "wind {'speed': 2.6, 'deg': 80}\n",
            "rain {'1h': 0.51}\n",
            "clouds {'all': 75}\n",
            "dt 1574359725\n",
            "sys {'type': 1, 'id': 1402, 'country': 'GB', 'sunrise': 1574321449, 'sunset': 1574352736}\n",
            "timezone 0\n",
            "id 2637487\n",
            "name Southampton\n",
            "cod 200\n"
          ],
          "name": "stdout"
        }
      ]
    }
  ]
}