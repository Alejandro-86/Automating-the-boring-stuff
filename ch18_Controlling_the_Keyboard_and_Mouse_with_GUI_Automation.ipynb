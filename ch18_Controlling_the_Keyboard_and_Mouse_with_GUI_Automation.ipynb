{
  "nbformat": 4,
  "nbformat_minor": 0,
  "metadata": {
    "colab": {
      "name": "ch18 Controlling the Keyboard and Mouse with GUI Automation.ipynb",
      "provenance": []
    },
    "kernelspec": {
      "name": "python3",
      "display_name": "Python 3"
    }
  },
  "cells": [
    {
      "cell_type": "markdown",
      "metadata": {
        "id": "MpH-e94w2l63",
        "colab_type": "text"
      },
      "source": [
        "# Chapter 18 – Controlling the Keyboard and Mouse with GUI Automation"
      ]
    },
    {
      "cell_type": "code",
      "metadata": {
        "id": "qf9NQjWM2lVd",
        "colab_type": "code",
        "colab": {}
      },
      "source": [
        "!pip install pyautogui\n",
        "import pyautogui\n",
        "import time\n",
        "pyautogui.PAUSE = 1\n",
        "pyautogui.FAILSAFE = True\n",
        "print(pyautogui.size())\n",
        "\n",
        "\n",
        "# moves the mouse cursor clockwise in a square pattern among the four coordinates provided a total of ten times\n",
        "\n",
        "for i in range(10):\n",
        "      pyautogui.moveTo(100, 100, duration=0.25)\n",
        "      pyautogui.moveTo(200, 100, duration=0.25)\n",
        "      pyautogui.moveTo(200, 200, duration=0.25)\n",
        "      pyautogui.moveTo(100, 200, duration=0.25)\n",
        "\n",
        "# moves the mouse cursor relative to its current position\n",
        "for i in range(10):\n",
        "    pyautogui.moveRel(100, 0, duration=0.25)\n",
        "    pyautogui.moveRel(0, 100, duration=0.25)\n",
        "    pyautogui.moveRel(-100, 0, duration=0.25)\n",
        "    pyautogui.moveRel(0, -100, duration=0.25)\n",
        "\n",
        "\n",
        "# program that locates the position of the mouse till finish\n",
        "\n",
        "print('Press Ctrl-C to quit')\n",
        "try:\n",
        "    while True:\n",
        "        x, y = pyautogui.position()\n",
        "        positionStr = 'X: ' + str(x).rjust(4) + ' Y: ' + str(y).rjust(4)\n",
        "        time.sleep(0.5)\n",
        "        print(positionStr)\n",
        "except KeyboardInterrupt:\n",
        "    print('\\nDOne')\n",
        "\n",
        "\n",
        "# Clicking the mouse\n",
        "# If you want to specify which mouse button to use, include the button keyword argument, with a value of 'left', 'middle', or 'right'\n",
        "\n",
        "pyautogui.click(10,5, button='right')\n",
        "\n",
        "\n",
        "# Dragging the Mouse\n",
        "# Dragging means moving the mouse while holding down one of the mouse buttons.\n",
        "\n",
        "time.sleep(5)\n",
        "pyautogui.click()\n",
        "distance = 200\n",
        "while distance > 0:\n",
        "    pyautogui.dragRel(distance, 0, duration=0.2)\n",
        "    distance = distance-5\n",
        "    pyautogui.dragRel(0, distance, duration=0.2)   # move down\n",
        "    pyautogui.dragRel(-distance, 0, duration=0.2)  # move left\n",
        "    distance = distance - 5\n",
        "    pyautogui.dragRel(0, -distance, duration=0.2)  # move up\n",
        "\n",
        "\n",
        "\n",
        "# pixelMatchesColor() function will return True if the pixel at the given x- and y-coordinates on the screen matches the given color.\n",
        "im = pyautogui.screenshot()\n",
        "im.show()\n",
        "print(pyautogui.pixelMatchesColor(50, 200, (130, 135, 144)))\n",
        "print(pyautogui.pixelMatchesColor(50, 200, (255, 135, 144)))\n",
        "\n",
        "# Sending a String from the Keyboard\n",
        "pyautogui.click(100, 100)\n",
        "pyautogui.typewrite('Hello world!')\n",
        "\n",
        "# Hotkey Combinations\n",
        "\n",
        "pyautogui.keyDown('ctrl')\n",
        "pyautogui.keyDown('c')\n",
        "pyautogui.keyUp('c')\n",
        "pyautogui.keyUp('ctrl')\n",
        "\n",
        "pyautogui.hotkey('ctrl', 'c')"
      ],
      "execution_count": 0,
      "outputs": []
    }
  ]
}