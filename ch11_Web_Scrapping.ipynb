{
  "nbformat": 4,
  "nbformat_minor": 0,
  "metadata": {
    "colab": {
      "name": "ch11 Web Scrapping.ipynb",
      "provenance": [],
      "toc_visible": true
    },
    "kernelspec": {
      "name": "python3",
      "display_name": "Python 3"
    }
  },
  "cells": [
    {
      "cell_type": "markdown",
      "metadata": {
        "id": "RIHWoOCcwiZm",
        "colab_type": "text"
      },
      "source": [
        "# Chapter 11 \n",
        "\n",
        "webbrowser. Comes with Python and opens a browser to a specific page.\n",
        "\n",
        "Requests. Downloads files and web pages from the Internet.\n",
        "\n",
        "Beautiful Soup. Parses HTML, the format that web pages are written in.\n",
        "\n",
        "Selenium. Launches and controls a web browser. Selenium is able to fill in forms and simulate mouse clicks in this **browser**"
      ]
    },
    {
      "cell_type": "markdown",
      "metadata": {
        "id": "RtHMPURt4_6c",
        "colab_type": "text"
      },
      "source": [
        "## Webbrowser"
      ]
    },
    {
      "cell_type": "code",
      "metadata": {
        "id": "NbblDOitv55r",
        "colab_type": "code",
        "outputId": "f3475278-cc3b-49b6-d4c5-b362a3cc7e6c",
        "colab": {
          "base_uri": "https://localhost:8080/",
          "height": 84
        }
      },
      "source": [
        "import webbrowser\n",
        "\n",
        "print('1 for search an adress in google maps')\n",
        "print('2 look for weather')\n",
        "print('3 open all your socia network sites')\n",
        "sel = int(input('What do you want to do? '))\n",
        "while(sel <0 or sel>4):\n",
        "    print('wrong choice')\n",
        "    sel = int(input('What do you want to do? '))\n",
        "\n",
        "if sel ==1:\n",
        "    address = input('tell me your adress')\n",
        "    # address = '870+Valencia+St+San+Francisco+CA+94110'\n",
        "    base = 'https://www.google.com/maps/place/'\n",
        "    webbrowser.open_new(base + address)\n",
        "elif sel == 2:\n",
        "    webbrowser.open_new('https://www.metoffice.gov.uk/weather/forecast/')\n",
        "\n",
        "elif sel == 3:\n",
        "    webbrowser.open_new('https://reddit.com')\n",
        "    webbrowser.open_new('https://Twitter.com')\n",
        "    webbrowser.open_new('https://Youtube.com')\n"
      ],
      "execution_count": 0,
      "outputs": [
        {
          "output_type": "stream",
          "text": [
            "1 for search an adress in google maps\n",
            "2 look for weather\n",
            "3 open all your socia network sites\n",
            "What do you want to do? 3\n"
          ],
          "name": "stdout"
        }
      ]
    },
    {
      "cell_type": "markdown",
      "metadata": {
        "id": "WCj63x3e46hM",
        "colab_type": "text"
      },
      "source": [
        "## Downloading Files from the Web with the requests Module"
      ]
    },
    {
      "cell_type": "code",
      "metadata": {
        "id": "Hzt4bN8O5Evn",
        "colab_type": "code",
        "outputId": "c6595392-8f31-4fc3-c5b9-bb13a39f4e98",
        "colab": {
          "base_uri": "https://localhost:8080/",
          "height": 50
        }
      },
      "source": [
        "import requests\n",
        "\n",
        "res = requests.get('https://automatetheboringstuff.com/files/rj.txt')\n",
        "print(type(res))\n",
        "res.status_code == requests.codes.ok"
      ],
      "execution_count": 0,
      "outputs": [
        {
          "output_type": "stream",
          "text": [
            "<class 'requests.models.Response'>\n"
          ],
          "name": "stdout"
        },
        {
          "output_type": "execute_result",
          "data": {
            "text/plain": [
              "True"
            ]
          },
          "metadata": {
            "tags": []
          },
          "execution_count": 11
        }
      ]
    },
    {
      "cell_type": "code",
      "metadata": {
        "id": "gZb9SuEJ59Zf",
        "colab_type": "code",
        "outputId": "e58a4eff-872f-4efa-df34-b9e30f72149c",
        "colab": {
          "base_uri": "https://localhost:8080/",
          "height": 33
        }
      },
      "source": [
        "len(res.text)"
      ],
      "execution_count": 0,
      "outputs": [
        {
          "output_type": "execute_result",
          "data": {
            "text/plain": [
              "178978"
            ]
          },
          "metadata": {
            "tags": []
          },
          "execution_count": 12
        }
      ]
    },
    {
      "cell_type": "code",
      "metadata": {
        "id": "akM0vFNO5_Ov",
        "colab_type": "code",
        "outputId": "0b4a1c49-7dc1-4cc2-b074-46963209eb9d",
        "colab": {
          "base_uri": "https://localhost:8080/",
          "height": 100
        }
      },
      "source": [
        "print(res.text[:250])"
      ],
      "execution_count": 0,
      "outputs": [
        {
          "output_type": "stream",
          "text": [
            "The Project Gutenberg EBook of Romeo and Juliet, by William Shakespeare\r\n",
            "\r\n",
            "This eBook is for the use of anyone anywhere at no cost and with\r\n",
            "almost no restrictions whatsoever.  You may copy it, give it away or\r\n",
            "re-use it under the terms of the Projec\n"
          ],
          "name": "stdout"
        }
      ]
    },
    {
      "cell_type": "code",
      "metadata": {
        "id": "gGbFBbAi6QnX",
        "colab_type": "code",
        "outputId": "e75ff0bf-efdc-4a96-f7c8-2c34e4d285fc",
        "colab": {
          "base_uri": "https://localhost:8080/",
          "height": 33
        }
      },
      "source": [
        "res = requests.get('http://inventwithpython.com/page_that_does_not_exist')\n",
        "try:\n",
        "  res.raise_for_status()\n",
        "except Exception as exc:\n",
        "    print(exc)"
      ],
      "execution_count": 0,
      "outputs": [
        {
          "output_type": "stream",
          "text": [
            "404 Client Error: Not Found for url: http://inventwithpython.com/page_that_does_not_exist\n"
          ],
          "name": "stdout"
        }
      ]
    },
    {
      "cell_type": "code",
      "metadata": {
        "id": "omClHY5w7ML1",
        "colab_type": "code",
        "colab": {}
      },
      "source": [
        "res = requests.get('https://automatetheboringstuff.com/files/rj.txt')\n",
        "try:\n",
        "  res.raise_for_status()\n",
        "except Exception as exc:\n",
        "    raise(exc)\n",
        "    \n",
        "playFile = open('RomeoandJuliet.txt', 'wb')\n",
        "for chunk in res.iter_content(10000):\n",
        "  playFile.write(chunk)\n",
        "playFile.close()"
      ],
      "execution_count": 0,
      "outputs": []
    },
    {
      "cell_type": "markdown",
      "metadata": {
        "id": "Ldhe9TwC82ze",
        "colab_type": "text"
      },
      "source": [
        "## BeautifulSoup\n",
        "\n",
        "Beautiful Soup is a module for extracting information from an HTML page"
      ]
    },
    {
      "cell_type": "markdown",
      "metadata": {
        "id": "D6SA1ufp7zFI",
        "colab_type": "text"
      },
      "source": [
        "### HTML refreshers\n",
        "\n",
        "http://htmldog.com/guides/html/beginner/\n",
        "\n",
        "http://www.codecademy.com/tracks/web/\n",
        "\n",
        "https://developer.mozilla.org/en-US/learn/html/"
      ]
    },
    {
      "cell_type": "code",
      "metadata": {
        "id": "gwHWqC6d8O2F",
        "colab_type": "code",
        "outputId": "3144c642-0f0a-46af-da79-f2e53a4ba710",
        "colab": {
          "base_uri": "https://localhost:8080/",
          "height": 33
        }
      },
      "source": [
        "import bs4\n",
        "\n",
        "res = requests.get('http://nostarch.com')\n",
        "res.raise_for_status()\n",
        "noStarchSoup = bs4.BeautifulSoup(res.text)\n",
        "type(noStarchSoup)"
      ],
      "execution_count": 0,
      "outputs": [
        {
          "output_type": "execute_result",
          "data": {
            "text/plain": [
              "bs4.BeautifulSoup"
            ]
          },
          "metadata": {
            "tags": []
          },
          "execution_count": 24
        }
      ]
    },
    {
      "cell_type": "code",
      "metadata": {
        "id": "vludqF9j9gjm",
        "colab_type": "code",
        "outputId": "894d7fa4-a5bb-4f5f-ec12-a73e3dae1c6a",
        "colab": {
          "base_uri": "https://localhost:8080/",
          "height": 50
        }
      },
      "source": [
        "exampleFile = open('example.html')\n",
        "exampleSoup = bs4.BeautifulSoup(exampleFile.read())\n",
        "elems = exampleSoup.select('#author')\n",
        "print(type(elems))\n",
        "elems[0]\n"
      ],
      "execution_count": 0,
      "outputs": [
        {
          "output_type": "stream",
          "text": [
            "<class 'list'>\n"
          ],
          "name": "stdout"
        },
        {
          "output_type": "execute_result",
          "data": {
            "text/plain": [
              "<span id=\"author\">Al Sweigart</span>"
            ]
          },
          "metadata": {
            "tags": []
          },
          "execution_count": 32
        }
      ]
    },
    {
      "cell_type": "code",
      "metadata": {
        "id": "EdIQoHko-vly",
        "colab_type": "code",
        "outputId": "08ac66f5-36b2-4280-e751-106c4f6a65e0",
        "colab": {
          "base_uri": "https://localhost:8080/",
          "height": 50
        }
      },
      "source": [
        "print(elems[0].getText())\n",
        "elems[0].attrs"
      ],
      "execution_count": 0,
      "outputs": [
        {
          "output_type": "stream",
          "text": [
            "Al Sweigart\n"
          ],
          "name": "stdout"
        },
        {
          "output_type": "execute_result",
          "data": {
            "text/plain": [
              "{'id': 'author'}"
            ]
          },
          "metadata": {
            "tags": []
          },
          "execution_count": 37
        }
      ]
    },
    {
      "cell_type": "code",
      "metadata": {
        "id": "PKalADbg-_1B",
        "colab_type": "code",
        "outputId": "d8d79beb-4fcc-49a9-c9a9-79425872a278",
        "colab": {
          "base_uri": "https://localhost:8080/",
          "height": 120
        }
      },
      "source": [
        "pElems = exampleSoup.select('p')\n",
        "print(str(pElems))\n",
        "for p in pElems:\n",
        "  print(p.getText())"
      ],
      "execution_count": 0,
      "outputs": [
        {
          "output_type": "stream",
          "text": [
            "[<p>Download my <strong>Python</strong> book from <a href=\"http://\n",
            "inventwithpython.com\">my website</a>.</p>, <p class=\"slogan\">Learn Python the easy way!</p>, <p>By <span id=\"author\">Al Sweigart</span></p>]\n",
            "Download my Python book from my website.\n",
            "Learn Python the easy way!\n",
            "By Al Sweigart\n"
          ],
          "name": "stdout"
        }
      ]
    },
    {
      "cell_type": "code",
      "metadata": {
        "id": "Uw4in7b3Ey8l",
        "colab_type": "code",
        "outputId": "2df37494-5b7a-481f-a674-8471d814da64",
        "colab": {
          "base_uri": "https://localhost:8080/",
          "height": 84
        }
      },
      "source": [
        "soup = bs4.BeautifulSoup(open('example.html'))\n",
        "spanElem = soup.select('span')[0]\n",
        "print(spanElem)\n",
        "print(spanElem.get('id'))\n",
        "print(spanElem.attrs)\n",
        "\n",
        "spanElem.get('some_nonexistent_addr') == None"
      ],
      "execution_count": 0,
      "outputs": [
        {
          "output_type": "stream",
          "text": [
            "<span id=\"author\">Al Sweigart</span>\n",
            "author\n",
            "{'id': 'author'}\n"
          ],
          "name": "stdout"
        },
        {
          "output_type": "execute_result",
          "data": {
            "text/plain": [
              "True"
            ]
          },
          "metadata": {
            "tags": []
          },
          "execution_count": 56
        }
      ]
    },
    {
      "cell_type": "markdown",
      "metadata": {
        "id": "aw0S6jwxcsYv",
        "colab_type": "text"
      },
      "source": [
        "Code to open 5 random links on a google search"
      ]
    },
    {
      "cell_type": "code",
      "metadata": {
        "id": "xVhxc9P6crp-",
        "colab_type": "code",
        "outputId": "52e2a8d7-1f4c-45fb-faa7-80ea86120421",
        "colab": {
          "base_uri": "https://localhost:8080/",
          "height": 67
        }
      },
      "source": [
        "import webbrowser\n",
        "import bs4\n",
        "import requests\n",
        "import random\n",
        "\n",
        "\n",
        "s = input('What do you want to search on google \\n')\n",
        "base = 'https://www.google.com/search?q='\n",
        "\n",
        "search = base + s\n",
        "\n",
        "print('Googling...')\n",
        "res = requests.get(search)\n",
        "res.raise_for_status()\n",
        "soup = bs4.BeautifulSoup(res.text, \"html.parser\")\n",
        "# print(soup.prettify())\n",
        "\n",
        "linkElems = soup.findAll('a', href=True)\n",
        "links = []\n",
        "for l in linkElems:\n",
        "    href = l['href']\n",
        "    i = href.find('http')\n",
        "    if i !=-1:\n",
        "        links.append(href[i:])\n",
        "\n",
        "numOpen = min(5, len(linkElems))\n",
        "for link in random.sample(links, numOpen):\n",
        "    webbrowser.open(link)\n"
      ],
      "execution_count": 0,
      "outputs": [
        {
          "output_type": "stream",
          "text": [
            "What do you want to search on google \n",
            "onodera\n",
            "Googling...\n"
          ],
          "name": "stdout"
        }
      ]
    },
    {
      "cell_type": "markdown",
      "metadata": {
        "id": "BJICunLadIwS",
        "colab_type": "text"
      },
      "source": [
        "Open all the product pages after searching a shopping site Mercado libre"
      ]
    },
    {
      "cell_type": "code",
      "metadata": {
        "id": "geJhdKVnkj41",
        "colab_type": "code",
        "outputId": "7a337aa6-2548-4e39-f691-02964015e673",
        "colab": {
          "base_uri": "https://localhost:8080/",
          "height": 67
        }
      },
      "source": [
        "import webbrowser\n",
        "import bs4\n",
        "import requests\n",
        "import random\n",
        "\n",
        "\n",
        "\n",
        "headers = {'user-agent':'Mozilla/5.0 (Windows NT 10.0; WOW64; rv:50.0) Gecko/20100101 Firefox/50.0'}\n",
        "\n",
        "\n",
        "s = input('What do you want to search on Mercado libre \\n')\n",
        "base = 'https://listado.mercadolibre.com.mx/'\n",
        "search = base + s\n",
        "print('Searching on mercadolibre...')\n",
        "res = requests.get(search, headers=headers)\n",
        "res.raise_for_status()\n",
        "soup = bs4.BeautifulSoup(res.text, \"html.parser\")\n",
        "# print(soup.prettify())\n",
        "\n",
        "linkElems = soup.findAll('a', href=True)\n",
        "links = []\n",
        "\n",
        "for l in linkElems:\n",
        "    href = l['href']\n",
        "    i = href.find('http')\n",
        "    if i !=-1:\n",
        "        links.append(href[i:])\n",
        "\n",
        "numOpen = min(5, len(linkElems))\n",
        "for link in random.sample([l for l in links if 'articulo' in l], numOpen):\n",
        "    webbrowser.open(link)\n"
      ],
      "execution_count": 0,
      "outputs": [
        {
          "output_type": "stream",
          "text": [
            "What do you want to search on Amazon \n",
            "zapatos\n",
            "Searching on mercadolibre...\n"
          ],
          "name": "stdout"
        }
      ]
    },
    {
      "cell_type": "markdown",
      "metadata": {
        "id": "2j6DdI8DlEyV",
        "colab_type": "text"
      },
      "source": [
        "Project: Downloading All XKCD Comics"
      ]
    },
    {
      "cell_type": "code",
      "metadata": {
        "id": "mSAEQJN82cMl",
        "colab_type": "code",
        "colab": {}
      },
      "source": [
        "import bs4\n",
        "import requests\n",
        "import random, os\n",
        "\n",
        "headers = {'user-agent':'Mozilla/5.0 (Windows NT 10.0; WOW64; rv:50.0) Gecko/20100101 Firefox/50.0'}\n",
        "\n",
        "# TODO: Download the webpage\n",
        "\n",
        "url = 'http://xkcd.com'\n",
        "os.makedirs('xkcd', exist_ok=True)\n",
        "while not url.endswith('#'):\n",
        "    print('Downloading page %s...' % url)\n",
        "    res = requests.get(url)\n",
        "    res.raise_for_status()\n",
        "    soup = bs4.BeautifulSoup(res.text, \"html.parser\")\n",
        "\n",
        "    # TODO: Find and Download the Comic Image\n",
        "\n",
        "    comicElem = soup.select('#comic img')\n",
        "    if comicElem == []:\n",
        "         print('Could not find comic image.')\n",
        "    else:\n",
        "        try:\n",
        "            comicUrl = 'http:' + comicElem[0].get('src')\n",
        "            # Download the image.\n",
        "            print('Downloading image %s...' % (comicUrl))\n",
        "            res = requests.get(comicUrl)\n",
        "            res.raise_for_status()\n",
        "        except requests.exceptions.MissingSchema:\n",
        "            # skip this comic\n",
        "            prevLink = soup.select('a[rel=\"prev\"]')[0]\n",
        "            url = 'http://xkcd.com' + prevLink.get('href')\n",
        "            continue\n",
        "\n",
        "    # TODO: Save the Image and Find the Previous Comic.\n",
        "\n",
        "    imageFile = open(os.path.join('xkcd', os.path.basename(comicUrl)), 'wb')\n",
        "    for chunk in res.iter_content(100000):\n",
        "        imageFile.write(chunk)\n",
        "    imageFile.close()\n",
        "\n",
        "    # Get the Prev button's url.\n",
        "    prevLink = soup.select('a[rel=\"prev\"]')[0]\n",
        "    url = 'http://xkcd.com' + prevLink.get('href')\n"
      ],
      "execution_count": 0,
      "outputs": []
    },
    {
      "cell_type": "markdown",
      "metadata": {
        "id": "DmuT_yj_2fyM",
        "colab_type": "text"
      },
      "source": [
        "## Selenium\n",
        "\n",
        "The selenium module lets Python directly control the browser by programmatically clicking links and filling in login information, almost as though there is a human user interacting with the page."
      ]
    },
    {
      "cell_type": "markdown",
      "metadata": {
        "id": "MsEMs1ndQYYF",
        "colab_type": "text"
      },
      "source": [
        "finding an specific element"
      ]
    },
    {
      "cell_type": "code",
      "metadata": {
        "id": "iTJbiqFWQZN7",
        "colab_type": "code",
        "colab": {}
      },
      "source": [
        "from selenium import webdriver\n",
        "\n",
        "browser = webdriver.Chrome()\n",
        "browser.get('http://inventwithpython.com')\n",
        "try:\n",
        "    elem = browser.find_element_by_xpath('/html/body/div[2]/div[3]/div/center/a[1]/img')\n",
        "    print('Found <%s> element with that class name!' % elem.tag_name)\n",
        "except Exception as e:\n",
        "    print(e)\n",
        "    print('Was not able to find an element with that name')\n"
      ],
      "execution_count": 0,
      "outputs": []
    },
    {
      "cell_type": "markdown",
      "metadata": {
        "id": "gJI7O3K3Qi6n",
        "colab_type": "text"
      },
      "source": [
        "Clicking a element "
      ]
    },
    {
      "cell_type": "code",
      "metadata": {
        "id": "_Ty-TwbaQhKX",
        "colab_type": "code",
        "colab": {}
      },
      "source": [
        "browser = webdriver.Chrome()\n",
        "browser.get('http://inventwithpython.com')\n",
        "linkElem = browser.find_element_by_partial_link_text('See what\\'s new in the ')\n",
        "linkElem.click()"
      ],
      "execution_count": 0,
      "outputs": []
    },
    {
      "cell_type": "markdown",
      "metadata": {
        "id": "srAOz5NKQqMu",
        "colab_type": "text"
      },
      "source": [
        "Signing into email using selenium"
      ]
    },
    {
      "cell_type": "code",
      "metadata": {
        "id": "swa1y4LxQrSE",
        "colab_type": "code",
        "colab": {}
      },
      "source": [
        "browser = webdriver.Chrome()\n",
        "browser.get('https://gmail.com')\n",
        "user = browser.find_element_by_id('identifierId')\n",
        "user.send_keys('username')\n",
        "next = browser.find_element_by_xpath('//*[@id=\"identifierNext\"]/span/span')\n",
        "next.click()\n",
        "time.sleep(1)\n",
        "password = browser.find_element_by_name(\"password\")\n",
        "password.send_keys('password')\n",
        "clickelement = browser.find_element_by_xpath('//*[@id=\"passwordNext\"]/span/span')\n",
        "clickelement.click()\n"
      ],
      "execution_count": 0,
      "outputs": []
    },
    {
      "cell_type": "markdown",
      "metadata": {
        "id": "L0jWqE6k0b1j",
        "colab_type": "text"
      },
      "source": [
        "Sending an eail using selenium"
      ]
    },
    {
      "cell_type": "code",
      "metadata": {
        "id": "p9dPg15c0fM5",
        "colab_type": "code",
        "colab": {}
      },
      "source": [
        "from selenium import webdriver\n",
        "import time\n",
        "\n",
        "def logging_in(username, password):\n",
        "    # locate user name and fill it with letters\n",
        "    browser.find_element_by_id('identifierId').send_keys(username)\n",
        "    # click next\n",
        "    browser.find_element_by_xpath('//*[@id=\"identifierNext\"]/span/span'). click()\n",
        "    time.sleep(1)\n",
        "    # locate password box and fill it with password\n",
        "    browser.find_element_by_name('password').send_keys(password)\n",
        "    # click next\n",
        "    browser.find_element_by_xpath('//*[@id=\"passwordNext\"]/span/span').click()\n",
        "\n",
        "def new_email():\n",
        "    # compose button\n",
        "    browser.find_element_by_xpath(\"//div[contains(text(),'Compose')]\").click()\n",
        "    # to textbox\n",
        "    browser.find_element_by_name(\"to\").send_keys('aalonsocanales@gmail.com')\n",
        "    #to title\n",
        "    browser.find_element_by_name(\"subjectbox\").send_keys('Hola')\n",
        "    # Text\n",
        "    browser.find_element_by_class_name(\"Am\").send_keys('Sent Using Selenium')\n",
        "    time.sleep(3)\n",
        "    browser.find_element_by_xpath(\"//*[@class='T-I J-J5-Ji aoO v7 T-I-atl L3']\").click()\n",
        "\n",
        "\n",
        "username = 'rbccGlee'\n",
        "pword = 'Rebecca1!'\n",
        "\n",
        "\n",
        "browser = webdriver.Chrome()\n",
        "browser.get('https://gmail.com')\n",
        "\n",
        "logging_in(username, pword)\n",
        "time.sleep(3)\n",
        "new_email()"
      ],
      "execution_count": 0,
      "outputs": []
    }
  ]
}