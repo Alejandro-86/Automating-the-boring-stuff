{
  "nbformat": 4,
  "nbformat_minor": 0,
  "metadata": {
    "colab": {
      "name": "Ch15 Keeping Time, Scheduling Tasks, and Launching Programs.ipynb",
      "provenance": [],
      "toc_visible": true
    },
    "kernelspec": {
      "name": "python3",
      "display_name": "Python 3"
    }
  },
  "cells": [
    {
      "cell_type": "markdown",
      "metadata": {
        "id": "xsJjKtKNHOi5",
        "colab_type": "text"
      },
      "source": [
        "# Chapter 15 – Keeping Time, Scheduling Tasks, and Launching Programs"
      ]
    },
    {
      "cell_type": "markdown",
      "metadata": {
        "id": "JFclpCDLHenM",
        "colab_type": "text"
      },
      "source": [
        "## Time Module"
      ]
    },
    {
      "cell_type": "code",
      "metadata": {
        "id": "aD2C5xroHgbP",
        "colab_type": "code",
        "colab": {
          "base_uri": "https://localhost:8080/",
          "height": 33
        },
        "outputId": "63c5d30d-3fc6-47d4-bb47-acfc5b9d1838"
      },
      "source": [
        "import time\n",
        "\n",
        "time.time()"
      ],
      "execution_count": 34,
      "outputs": [
        {
          "output_type": "execute_result",
          "data": {
            "text/plain": [
              "1574355826.9422483"
            ]
          },
          "metadata": {
            "tags": []
          },
          "execution_count": 34
        }
      ]
    },
    {
      "cell_type": "markdown",
      "metadata": {
        "id": "nqcN0ADmH8xV",
        "colab_type": "text"
      },
      "source": [
        "Here I’m calling time.time() on February 27, 2015, at 11:05 Pacific Standard Time, or 7:05 PM UTC. The return value is how many seconds have passed between the Unix epoch and the moment time.time() was called."
      ]
    },
    {
      "cell_type": "code",
      "metadata": {
        "id": "LFa-C0dxHM_v",
        "colab_type": "code",
        "colab": {
          "base_uri": "https://localhost:8080/",
          "height": 50
        },
        "outputId": "1859f43a-99fd-40f6-ced0-8090bbe351a7"
      },
      "source": [
        "def calcProd():\n",
        "  product = 1\n",
        "  for i in range(1,100000):\n",
        "    product = product * i\n",
        "  return product\n",
        "\n",
        "startTime = time.time()\n",
        "prod = calcProd()\n",
        "endTime = time.time()\n",
        "print('The result is %s digits long.' %(len(str(prod))))\n",
        "print('Took %s seconds to calculate.' % (endTime - startTime))"
      ],
      "execution_count": 35,
      "outputs": [
        {
          "output_type": "stream",
          "text": [
            "The result is 456569 digits long.\n",
            "Took 2.52467942237854 seconds to calculate.\n"
          ],
          "name": "stdout"
        }
      ]
    },
    {
      "cell_type": "code",
      "metadata": {
        "id": "s6L2-ywLI3uY",
        "colab_type": "code",
        "colab": {
          "base_uri": "https://localhost:8080/",
          "height": 117
        },
        "outputId": "1336932b-e91e-419b-bf79-54c1e14bc300"
      },
      "source": [
        "for i in range(3):\n",
        "  print('Tick')\n",
        "  time.sleep(1)\n",
        "  print('Tock')\n",
        "  time.sleep(1)"
      ],
      "execution_count": 36,
      "outputs": [
        {
          "output_type": "stream",
          "text": [
            "Tick\n",
            "Tock\n",
            "Tick\n",
            "Tock\n",
            "Tick\n",
            "Tock\n"
          ],
          "name": "stdout"
        }
      ]
    },
    {
      "cell_type": "markdown",
      "metadata": {
        "id": "swM6x8JXJM1S",
        "colab_type": "text"
      },
      "source": [
        "Rounding numbers"
      ]
    },
    {
      "cell_type": "code",
      "metadata": {
        "id": "icb_lPYUJUrD",
        "colab_type": "code",
        "colab": {
          "base_uri": "https://localhost:8080/",
          "height": 67
        },
        "outputId": "989ac081-eefc-4e99-dbc5-4c2901a09289"
      },
      "source": [
        "now = time.time()\n",
        "now\n",
        "\n",
        "print(round(now,2))\n",
        "print(round(now,4))\n",
        "print(round(now))"
      ],
      "execution_count": 37,
      "outputs": [
        {
          "output_type": "stream",
          "text": [
            "1574355839.36\n",
            "1574355839.3634\n",
            "1574355839\n"
          ],
          "name": "stdout"
        }
      ]
    },
    {
      "cell_type": "markdown",
      "metadata": {
        "id": "5ysRZCYDJnnn",
        "colab_type": "text"
      },
      "source": [
        "Super StopWatch"
      ]
    },
    {
      "cell_type": "code",
      "metadata": {
        "id": "2ykdynQZJr4s",
        "colab_type": "code",
        "colab": {
          "base_uri": "https://localhost:8080/",
          "height": 167
        },
        "outputId": "4b7ad258-da7c-4e3f-870d-4a672f7e1100"
      },
      "source": [
        "print('Press Enter to begin. Afterwards, press Enter to \"click\" the stopwatch. Press Ctrl-c to quit')\n",
        "\n",
        "input()\n",
        "print('Started')\n",
        "startTime = time.time()\n",
        "lastTime = startTime\n",
        "lapNum = 1\n",
        "\n",
        "try:\n",
        "  \n",
        "  while True:\n",
        "    input()\n",
        "    lapTime = round(time.time() - lastTime, 2)\n",
        "    totalTime = round(time.time() - startTime, 2)\n",
        "    print('Lap #%s: %s (%s)' % (lapNum, totalTime, lapTime), end='')\n",
        "    lapNum += 1\n",
        "    lastTime = time.time() # reset the last lap time\n",
        "except KeyboardInterrupt:\n",
        "  print('\\nDone')"
      ],
      "execution_count": 38,
      "outputs": [
        {
          "output_type": "stream",
          "text": [
            "Press Enter to begin. Afterwards, press Enter to \"click\" the stopwatch. Press Ctrl-c to quit\n",
            "\n",
            "Started\n",
            "\n",
            "Lap #1: 1.15 (1.15)\n",
            "Lap #2: 2.38 (1.23)\n",
            "Lap #3: 3.34 (0.96)\n",
            "Lap #4: 4.23 (0.89)\n",
            "Done\n"
          ],
          "name": "stdout"
        }
      ]
    },
    {
      "cell_type": "markdown",
      "metadata": {
        "id": "-n8qKdv9LAOj",
        "colab_type": "text"
      },
      "source": [
        "### The datetime Module"
      ]
    },
    {
      "cell_type": "code",
      "metadata": {
        "id": "mt7gf8W-LEUo",
        "colab_type": "code",
        "colab": {
          "base_uri": "https://localhost:8080/",
          "height": 67
        },
        "outputId": "73dd8e5d-a38a-425a-f921-27738a820bf2"
      },
      "source": [
        "import datetime\n",
        "\n",
        "print(datetime.datetime.now())\n",
        "\n",
        "dt = datetime.datetime(2019,11,21,13,35,7)\n",
        "print(dt.year, dt.month, dt.day)\n",
        "print(dt.hour, dt.minute, dt.second)"
      ],
      "execution_count": 39,
      "outputs": [
        {
          "output_type": "stream",
          "text": [
            "2019-11-21 17:04:11.189118\n",
            "2019 11 21\n",
            "13 35 7\n"
          ],
          "name": "stdout"
        }
      ]
    },
    {
      "cell_type": "code",
      "metadata": {
        "id": "NjxfJTXwMIGH",
        "colab_type": "code",
        "colab": {
          "base_uri": "https://localhost:8080/",
          "height": 50
        },
        "outputId": "5808f069-f6c5-482f-f5b9-1db642b5ef02"
      },
      "source": [
        "print(datetime.datetime.fromtimestamp(1000000))\n",
        "print(datetime.datetime.fromtimestamp(time.time()))"
      ],
      "execution_count": 40,
      "outputs": [
        {
          "output_type": "stream",
          "text": [
            "1970-01-12 13:46:40\n",
            "2019-11-21 17:04:11.209875\n"
          ],
          "name": "stdout"
        }
      ]
    },
    {
      "cell_type": "code",
      "metadata": {
        "id": "thGLoMLlMQLt",
        "colab_type": "code",
        "colab": {
          "base_uri": "https://localhost:8080/",
          "height": 84
        },
        "outputId": "a058ea81-d59b-4911-d03e-4eaa68edad6c"
      },
      "source": [
        "halloween2015 = datetime.datetime(2015, 10, 31, 0, 0, 0)\n",
        "newyears2016 = datetime.datetime(2016, 1, 1, 0, 0, 0)\n",
        "oct31_2015 = datetime.datetime(2015, 10, 31, 0, 0, 0)\n",
        "print(halloween2015 == oct31_2015)\n",
        "print(halloween2015 > newyears2016)\n",
        "print(newyears2016 > halloween2015)\n",
        "print(newyears2016 != oct31_2015)"
      ],
      "execution_count": 41,
      "outputs": [
        {
          "output_type": "stream",
          "text": [
            "True\n",
            "False\n",
            "True\n",
            "True\n"
          ],
          "name": "stdout"
        }
      ]
    },
    {
      "cell_type": "markdown",
      "metadata": {
        "id": "TwMrWECaMjqS",
        "colab_type": "text"
      },
      "source": [
        "### Timedelta data type\n",
        "\n",
        "The datetime module also provides a timedelta data type, which represents a duration of time rather than a moment in time.\n"
      ]
    },
    {
      "cell_type": "code",
      "metadata": {
        "id": "OcBMlwkXMpuk",
        "colab_type": "code",
        "colab": {
          "base_uri": "https://localhost:8080/",
          "height": 67
        },
        "outputId": "f6626dbe-645d-4796-a99e-4197d5665ec0"
      },
      "source": [
        "delta = datetime.timedelta(days=11, hours=10, minutes=9, seconds=8)\n",
        "print(delta.days, delta.seconds, delta.microseconds)\n",
        "print(delta.total_seconds())\n",
        "print(str(delta))\n",
        "\n"
      ],
      "execution_count": 42,
      "outputs": [
        {
          "output_type": "stream",
          "text": [
            "11 36548 0\n",
            "986948.0\n",
            "11 days, 10:09:08\n"
          ],
          "name": "stdout"
        }
      ]
    },
    {
      "cell_type": "markdown",
      "metadata": {
        "id": "MBTdjiTAwcO_",
        "colab_type": "text"
      },
      "source": [
        "## MultiThreading"
      ]
    },
    {
      "cell_type": "code",
      "metadata": {
        "id": "Z-Y9PWBBwPgh",
        "colab_type": "code",
        "colab": {
          "base_uri": "https://localhost:8080/",
          "height": 33
        },
        "outputId": "a38c408f-dc80-4f08-e0f9-684f793d29da"
      },
      "source": [
        "import threading\n",
        "\n",
        "def takeANap():\n",
        "  time.sleep(1)\n",
        "  print('Wake up')\n",
        "  \n",
        "threadObj = threading.Thread(target = takeANap)\n",
        "threadObj.start()\n",
        "\n",
        "print('End of Program')\n",
        "\n"
      ],
      "execution_count": 43,
      "outputs": [
        {
          "output_type": "stream",
          "text": [
            "End of Program\n"
          ],
          "name": "stdout"
        }
      ]
    },
    {
      "cell_type": "markdown",
      "metadata": {
        "id": "JJGpqKLZ1Cv4",
        "colab_type": "text"
      },
      "source": [
        "### Passing Arguments to the Thread’s Target Function\n"
      ]
    },
    {
      "cell_type": "code",
      "metadata": {
        "id": "B6n6r6ac1E9v",
        "colab_type": "code",
        "colab": {
          "base_uri": "https://localhost:8080/",
          "height": 33
        },
        "outputId": "08a970f1-7fac-47b6-9fe7-93f41353360b"
      },
      "source": [
        "threadObj = threading.Thread(target=print, args=['Cats', 'Dogs', 'Frogs'], kwargs = {'sep': ' & '})\n",
        "threadObj.start()"
      ],
      "execution_count": 44,
      "outputs": [
        {
          "output_type": "stream",
          "text": [
            "Cats & Dogs & Frogs\n"
          ],
          "name": "stdout"
        }
      ]
    },
    {
      "cell_type": "markdown",
      "metadata": {
        "id": "v9A0bbOf4P1l",
        "colab_type": "text"
      },
      "source": [
        "### Project: Multithreaded XKCD Downloader\n"
      ]
    },
    {
      "cell_type": "code",
      "metadata": {
        "id": "PO6c_5jp4TLZ",
        "colab_type": "code",
        "colab": {}
      },
      "source": [
        "import os\n",
        "import bs4\n",
        "import requests\n",
        "import threading\n",
        "\n",
        "os.makedirs('xkcd', exist_ok = True)\n",
        "\n",
        "def downloadXkcd(startComic, endComic):\n",
        "  for urlNumber in range(startComic, endComic +1):\n",
        "    res = requests.get('http://xkcd.com/%s' % (urlNumber))\n",
        "    res.raise_for_status()\n",
        "    \n",
        "    soup = bs4.BeautifulSoup(res.text)\n",
        "    comicElem = soup.select('#comic img')\n",
        "    \n",
        "    if comicElem == []:\n",
        "      print('Coulndt find comic image')\n",
        "    else:\n",
        "      comicUrl = comicElem[0].get('src')\n",
        "      print('Downloading image %s...' %(comicUrl))\n",
        "      res = requests.get(comicUrl)\n",
        "      res.raise_for_status()\n",
        "      \n",
        "      imageFile = open(os.path.join('xkcd', os.path.basename(comicUrl)), 'wb')\n",
        "      for chunk in res.iter_content(100000):\n",
        "        imageFile.write(chunk)\n",
        "      imageFile.close()\n",
        "        "
      ],
      "execution_count": 0,
      "outputs": []
    },
    {
      "cell_type": "code",
      "metadata": {
        "id": "RjhJxmZ04ep0",
        "colab_type": "code",
        "colab": {}
      },
      "source": [
        "downloadThreads = []\n",
        "for i in range(0, 1400, 100):\n",
        "  downloadThread = threading.Thread(target = downloadXkcd, args=(i, i+99))\n",
        "  downloadThreads.append(downloadThread)\n",
        "  downloadThread.start()"
      ],
      "execution_count": 0,
      "outputs": []
    },
    {
      "cell_type": "code",
      "metadata": {
        "id": "FZXOvwQc6nc1",
        "colab_type": "code",
        "colab": {
          "base_uri": "https://localhost:8080/",
          "height": 1000
        },
        "outputId": "848ec9e3-30e9-4af6-a299-1ccb1362ae42"
      },
      "source": [
        "for downloadThread in downloadThreads:\n",
        "    downloadThread.join()\n",
        "print('Done.')"
      ],
      "execution_count": 47,
      "outputs": [
        {
          "output_type": "stream",
          "text": [
            "Exception in thread Thread-31:\n",
            "Traceback (most recent call last):\n",
            "  File \"/usr/lib/python3.6/threading.py\", line 916, in _bootstrap_inner\n",
            "    self.run()\n",
            "  File \"/usr/lib/python3.6/threading.py\", line 864, in run\n",
            "    self._target(*self._args, **self._kwargs)\n",
            "  File \"<ipython-input-45-82120f69838c>\", line 11, in downloadXkcd\n",
            "    res.raise_for_status()\n",
            "  File \"/usr/local/lib/python3.6/dist-packages/requests/models.py\", line 940, in raise_for_status\n",
            "    raise HTTPError(http_error_msg, response=self)\n",
            "requests.exceptions.HTTPError: 404 Client Error: Not Found for url: https://xkcd.com/0\n",
            "\n",
            "Exception in thread Thread-34:\n",
            "Traceback (most recent call last):\n",
            "  File \"/usr/lib/python3.6/threading.py\", line 916, in _bootstrap_inner\n",
            "    self.run()\n",
            "  File \"/usr/lib/python3.6/threading.py\", line 864, in run\n",
            "    self._target(*self._args, **self._kwargs)\n",
            "  File \"<ipython-input-45-82120f69838c>\", line 21, in downloadXkcd\n",
            "    res = requests.get(comicUrl)\n",
            "  File \"/usr/local/lib/python3.6/dist-packages/requests/api.py\", line 75, in get\n",
            "    return request('get', url, params=params, **kwargs)\n",
            "  File \"/usr/local/lib/python3.6/dist-packages/requests/api.py\", line 60, in request\n",
            "    return session.request(method=method, url=url, **kwargs)\n",
            "  File \"/usr/local/lib/python3.6/dist-packages/requests/sessions.py\", line 519, in request\n",
            "    prep = self.prepare_request(req)\n",
            "  File \"/usr/local/lib/python3.6/dist-packages/requests/sessions.py\", line 462, in prepare_request\n",
            "    hooks=merge_hooks(request.hooks, self.hooks),\n",
            "  File \"/usr/local/lib/python3.6/dist-packages/requests/models.py\", line 313, in prepare\n",
            "    self.prepare_url(url, params)\n",
            "  File \"/usr/local/lib/python3.6/dist-packages/requests/models.py\", line 387, in prepare_url\n",
            "    raise MissingSchema(error)\n",
            "requests.exceptions.MissingSchema: Invalid URL '//imgs.xkcd.com/comics/facebook.png': No schema supplied. Perhaps you meant http:////imgs.xkcd.com/comics/facebook.png?\n",
            "\n",
            "Exception in thread Thread-43:\n",
            "Traceback (most recent call last):\n",
            "  File \"/usr/lib/python3.6/threading.py\", line 916, in _bootstrap_inner\n",
            "    self.run()\n",
            "  File \"/usr/lib/python3.6/threading.py\", line 864, in run\n",
            "    self._target(*self._args, **self._kwargs)\n",
            "  File \"<ipython-input-45-82120f69838c>\", line 21, in downloadXkcd\n",
            "    res = requests.get(comicUrl)\n",
            "  File \"/usr/local/lib/python3.6/dist-packages/requests/api.py\", line 75, in get\n",
            "    return request('get', url, params=params, **kwargs)\n",
            "  File \"/usr/local/lib/python3.6/dist-packages/requests/api.py\", line 60, in request\n",
            "    return session.request(method=method, url=url, **kwargs)\n",
            "  File \"/usr/local/lib/python3.6/dist-packages/requests/sessions.py\", line 519, in request\n",
            "    prep = self.prepare_request(req)\n",
            "  File \"/usr/local/lib/python3.6/dist-packages/requests/sessions.py\", line 462, in prepare_request\n",
            "    hooks=merge_hooks(request.hooks, self.hooks),\n",
            "  File \"/usr/local/lib/python3.6/dist-packages/requests/models.py\", line 313, in prepare\n",
            "    self.prepare_url(url, params)\n",
            "  File \"/usr/local/lib/python3.6/dist-packages/requests/models.py\", line 387, in prepare_url\n",
            "    raise MissingSchema(error)\n",
            "requests.exceptions.MissingSchema: Invalid URL '//imgs.xkcd.com/comics/authorization.png': No schema supplied. Perhaps you meant http:////imgs.xkcd.com/comics/authorization.png?\n",
            "\n",
            "Exception in thread Thread-42:\n",
            "Traceback (most recent call last):\n",
            "  File \"/usr/lib/python3.6/threading.py\", line 916, in _bootstrap_inner\n",
            "    self.run()\n",
            "  File \"/usr/lib/python3.6/threading.py\", line 864, in run\n",
            "    self._target(*self._args, **self._kwargs)\n",
            "  File \"<ipython-input-45-82120f69838c>\", line 21, in downloadXkcd\n",
            "    res = requests.get(comicUrl)\n",
            "  File \"/usr/local/lib/python3.6/dist-packages/requests/api.py\", line 75, in get\n",
            "    return request('get', url, params=params, **kwargs)\n",
            "  File \"/usr/local/lib/python3.6/dist-packages/requests/api.py\", line 60, in request\n",
            "    return session.request(method=method, url=url, **kwargs)\n",
            "  File \"/usr/local/lib/python3.6/dist-packages/requests/sessions.py\", line 519, in request\n",
            "    prep = self.prepare_request(req)\n",
            "  File \"/usr/local/lib/python3.6/dist-packages/requests/sessions.py\", line 462, in prepare_request\n",
            "    hooks=merge_hooks(request.hooks, self.hooks),\n",
            "  File \"/usr/local/lib/python3.6/dist-packages/requests/models.py\", line 313, in prepare\n",
            "    self.prepare_url(url, params)\n",
            "  File \"/usr/local/lib/python3.6/dist-packages/requests/models.py\", line 387, in prepare_url\n",
            "    raise MissingSchema(error)\n",
            "requests.exceptions.MissingSchema: Invalid URL '//imgs.xkcd.com/comics/vows.png': No schema supplied. Perhaps you meant http:////imgs.xkcd.com/comics/vows.png?\n",
            "\n",
            "Exception in thread Thread-33:\n",
            "Traceback (most recent call last):\n",
            "  File \"/usr/lib/python3.6/threading.py\", line 916, in _bootstrap_inner\n",
            "    self.run()\n",
            "  File \"/usr/lib/python3.6/threading.py\", line 864, in run\n",
            "    self._target(*self._args, **self._kwargs)\n",
            "  File \"<ipython-input-45-82120f69838c>\", line 21, in downloadXkcd\n",
            "    res = requests.get(comicUrl)\n",
            "  File \"/usr/local/lib/python3.6/dist-packages/requests/api.py\", line 75, in get\n",
            "    return request('get', url, params=params, **kwargs)\n",
            "  File \"/usr/local/lib/python3.6/dist-packages/requests/api.py\", line 60, in request\n",
            "    return session.request(method=method, url=url, **kwargs)\n",
            "  File \"/usr/local/lib/python3.6/dist-packages/requests/sessions.py\", line 519, in request\n",
            "    prep = self.prepare_request(req)\n",
            "  File \"/usr/local/lib/python3.6/dist-packages/requests/sessions.py\", line 462, in prepare_request\n",
            "    hooks=merge_hooks(request.hooks, self.hooks),\n",
            "  File \"/usr/local/lib/python3.6/dist-packages/requests/models.py\", line 313, in prepare\n",
            "    self.prepare_url(url, params)\n",
            "  File \"/usr/local/lib/python3.6/dist-packages/requests/models.py\", line 387, in prepare_url\n",
            "    raise MissingSchema(error)\n",
            "requests.exceptions.MissingSchema: Invalid URL '//imgs.xkcd.com/comics/bill_nye.png': No schema supplied. Perhaps you meant http:////imgs.xkcd.com/comics/bill_nye.png?\n",
            "Exception in thread Thread-41:\n",
            "Traceback (most recent call last):\n",
            "  File \"/usr/lib/python3.6/threading.py\", line 916, in _bootstrap_inner\n",
            "    self.run()\n",
            "  File \"/usr/lib/python3.6/threading.py\", line 864, in run\n",
            "    self._target(*self._args, **self._kwargs)\n",
            "  File \"<ipython-input-45-82120f69838c>\", line 21, in downloadXkcd\n",
            "    res = requests.get(comicUrl)\n",
            "  File \"/usr/local/lib/python3.6/dist-packages/requests/api.py\", line 75, in get\n",
            "    return request('get', url, params=params, **kwargs)\n",
            "  File \"/usr/local/lib/python3.6/dist-packages/requests/api.py\", line 60, in request\n",
            "    return session.request(method=method, url=url, **kwargs)\n",
            "  File \"/usr/local/lib/python3.6/dist-packages/requests/sessions.py\", line 519, in request\n",
            "    prep = self.prepare_request(req)\n",
            "  File \"/usr/local/lib/python3.6/dist-packages/requests/sessions.py\", line 462, in prepare_request\n",
            "    hooks=merge_hooks(request.hooks, self.hooks),\n",
            "  File \"/usr/local/lib/python3.6/dist-packages/requests/models.py\", line 313, in prepare\n",
            "    self.prepare_url(url, params)\n",
            "  File \"/usr/local/lib/python3.6/dist-packages/requests/models.py\", line 387, in prepare_url\n",
            "    raise MissingSchema(error)\n",
            "requests.exceptions.MissingSchema: Invalid URL '//imgs.xkcd.com/comics/1000_comics.png': No schema supplied. Perhaps you meant http:////imgs.xkcd.com/comics/1000_comics.png?\n",
            "\n",
            "\n",
            "Exception in thread Thread-32:\n",
            "Traceback (most recent call last):\n",
            "  File \"/usr/lib/python3.6/threading.py\", line 916, in _bootstrap_inner\n",
            "    self.run()\n",
            "  File \"/usr/lib/python3.6/threading.py\", line 864, in run\n",
            "    self._target(*self._args, **self._kwargs)\n",
            "  File \"<ipython-input-45-82120f69838c>\", line 21, in downloadXkcd\n",
            "    res = requests.get(comicUrl)\n",
            "  File \"/usr/local/lib/python3.6/dist-packages/requests/api.py\", line 75, in get\n",
            "    return request('get', url, params=params, **kwargs)\n",
            "  File \"/usr/local/lib/python3.6/dist-packages/requests/api.py\", line 60, in request\n",
            "    return session.request(method=method, url=url, **kwargs)\n",
            "  File \"/usr/local/lib/python3.6/dist-packages/requests/sessions.py\", line 519, in request\n",
            "    prep = self.prepare_request(req)\n",
            "  File \"/usr/local/lib/python3.6/dist-packages/requests/sessions.py\", line 462, in prepare_request\n",
            "    hooks=merge_hooks(request.hooks, self.hooks),\n",
            "  File \"/usr/local/lib/python3.6/dist-packages/requests/models.py\", line 313, in prepare\n",
            "    self.prepare_url(url, params)\n",
            "  File \"/usr/local/lib/python3.6/dist-packages/requests/models.py\", line 387, in prepare_url\n",
            "    raise MissingSchema(error)\n",
            "requests.exceptions.MissingSchema: Invalid URL '//imgs.xkcd.com/comics/family_circus.jpg': No schema supplied. Perhaps you meant http:////imgs.xkcd.com/comics/family_circus.jpg?\n",
            "\n",
            "Exception in thread Thread-38:\n",
            "Traceback (most recent call last):\n",
            "  File \"/usr/lib/python3.6/threading.py\", line 916, in _bootstrap_inner\n",
            "    self.run()\n",
            "  File \"/usr/lib/python3.6/threading.py\", line 864, in run\n",
            "    self._target(*self._args, **self._kwargs)\n",
            "  File \"<ipython-input-45-82120f69838c>\", line 21, in downloadXkcd\n",
            "    res = requests.get(comicUrl)\n",
            "  File \"/usr/local/lib/python3.6/dist-packages/requests/api.py\", line 75, in get\n",
            "    return request('get', url, params=params, **kwargs)\n",
            "  File \"/usr/local/lib/python3.6/dist-packages/requests/api.py\", line 60, in request\n",
            "    return session.request(method=method, url=url, **kwargs)\n",
            "  File \"/usr/local/lib/python3.6/dist-packages/requests/sessions.py\", line 519, in request\n",
            "    prep = self.prepare_request(req)\n",
            "  File \"/usr/local/lib/python3.6/dist-packages/requests/sessions.py\", line 462, in prepare_request\n",
            "    hooks=merge_hooks(request.hooks, self.hooks),\n",
            "  File \"/usr/local/lib/python3.6/dist-packages/requests/models.py\", line 313, in prepare\n",
            "    self.prepare_url(url, params)\n",
            "  File \"/usr/local/lib/python3.6/dist-packages/requests/models.py\", line 387, in prepare_url\n",
            "    raise MissingSchema(error)\n",
            "requests.exceptions.MissingSchema: Invalid URL '//imgs.xkcd.com/comics/complexion.png': No schema supplied. Perhaps you meant http:////imgs.xkcd.com/comics/complexion.png?\n",
            "Exception in thread Thread-36:\n",
            "Traceback (most recent call last):\n",
            "  File \"/usr/lib/python3.6/threading.py\", line 916, in _bootstrap_inner\n",
            "    self.run()\n",
            "  File \"/usr/lib/python3.6/threading.py\", line 864, in run\n",
            "    self._target(*self._args, **self._kwargs)\n",
            "  File \"<ipython-input-45-82120f69838c>\", line 21, in downloadXkcd\n",
            "    res = requests.get(comicUrl)\n",
            "  File \"/usr/local/lib/python3.6/dist-packages/requests/api.py\", line 75, in get\n",
            "    return request('get', url, params=params, **kwargs)\n",
            "  File \"/usr/local/lib/python3.6/dist-packages/requests/api.py\", line 60, in request\n",
            "    return session.request(method=method, url=url, **kwargs)\n",
            "  File \"/usr/local/lib/python3.6/dist-packages/requests/sessions.py\", line 519, in request\n",
            "    prep = self.prepare_request(req)\n",
            "  File \"/usr/local/lib/python3.6/dist-packages/requests/sessions.py\", line 462, in prepare_request\n",
            "    hooks=merge_hooks(request.hooks, self.hooks),\n",
            "  File \"/usr/local/lib/python3.6/dist-packages/requests/models.py\", line 313, in prepare\n",
            "    self.prepare_url(url, params)\n",
            "  File \"/usr/local/lib/python3.6/dist-packages/requests/models.py\", line 387, in prepare_url\n",
            "    raise MissingSchema(error)\n",
            "requests.exceptions.MissingSchema: Invalid URL '//imgs.xkcd.com/comics/election.png': No schema supplied. Perhaps you meant http:////imgs.xkcd.com/comics/election.png?\n",
            "\n",
            "\n",
            "Exception in thread Thread-40:\n",
            "Traceback (most recent call last):\n",
            "  File \"/usr/lib/python3.6/threading.py\", line 916, in _bootstrap_inner\n",
            "    self.run()\n",
            "  File \"/usr/lib/python3.6/threading.py\", line 864, in run\n",
            "    self._target(*self._args, **self._kwargs)\n",
            "  File \"<ipython-input-45-82120f69838c>\", line 21, in downloadXkcd\n",
            "    res = requests.get(comicUrl)\n",
            "  File \"/usr/local/lib/python3.6/dist-packages/requests/api.py\", line 75, in get\n",
            "    return request('get', url, params=params, **kwargs)\n",
            "  File \"/usr/local/lib/python3.6/dist-packages/requests/api.py\", line 60, in request\n",
            "    return session.request(method=method, url=url, **kwargs)\n",
            "  File \"/usr/local/lib/python3.6/dist-packages/requests/sessions.py\", line 519, in request\n",
            "    prep = self.prepare_request(req)\n",
            "  File \"/usr/local/lib/python3.6/dist-packages/requests/sessions.py\", line 462, in prepare_request\n",
            "    hooks=merge_hooks(request.hooks, self.hooks),\n",
            "  File \"/usr/local/lib/python3.6/dist-packages/requests/models.py\", line 313, in prepare\n",
            "    self.prepare_url(url, params)\n",
            "  File \"/usr/local/lib/python3.6/dist-packages/requests/models.py\", line 387, in prepare_url\n",
            "    raise MissingSchema(error)\n",
            "requests.exceptions.MissingSchema: Invalid URL '//imgs.xkcd.com/comics/religions.png': No schema supplied. Perhaps you meant http:////imgs.xkcd.com/comics/religions.png?\n",
            "\n",
            "Exception in thread Thread-35:\n",
            "Traceback (most recent call last):\n",
            "  File \"/usr/lib/python3.6/threading.py\", line 916, in _bootstrap_inner\n",
            "    self.run()\n",
            "  File \"/usr/lib/python3.6/threading.py\", line 864, in run\n",
            "    self._target(*self._args, **self._kwargs)\n",
            "  File \"<ipython-input-45-82120f69838c>\", line 21, in downloadXkcd\n",
            "    res = requests.get(comicUrl)\n",
            "  File \"/usr/local/lib/python3.6/dist-packages/requests/api.py\", line 75, in get\n",
            "    return request('get', url, params=params, **kwargs)\n",
            "  File \"/usr/local/lib/python3.6/dist-packages/requests/api.py\", line 60, in request\n",
            "    return session.request(method=method, url=url, **kwargs)\n",
            "  File \"/usr/local/lib/python3.6/dist-packages/requests/sessions.py\", line 519, in request\n",
            "    prep = self.prepare_request(req)\n",
            "  File \"/usr/local/lib/python3.6/dist-packages/requests/sessions.py\", line 462, in prepare_request\n",
            "    hooks=merge_hooks(request.hooks, self.hooks),\n",
            "  File \"/usr/local/lib/python3.6/dist-packages/requests/models.py\", line 313, in prepare\n",
            "    self.prepare_url(url, params)\n",
            "  File \"/usr/local/lib/python3.6/dist-packages/requests/models.py\", line 387, in prepare_url\n",
            "    raise MissingSchema(error)\n",
            "requests.exceptions.MissingSchema: Invalid URL '//imgs.xkcd.com/comics/important_life_lesson.png': No schema supplied. Perhaps you meant http:////imgs.xkcd.com/comics/important_life_lesson.png?\n",
            "\n"
          ],
          "name": "stderr"
        },
        {
          "output_type": "stream",
          "text": [
            "Downloading image //imgs.xkcd.com/comics/facebook.png...\n",
            "Downloading image //imgs.xkcd.com/comics/authorization.png...\n",
            "Downloading image //imgs.xkcd.com/comics/1000_comics.png...\n",
            "Downloading image //imgs.xkcd.com/comics/bill_nye.png...\n",
            "Downloading image //imgs.xkcd.com/comics/vows.png...\n",
            "Downloading image //imgs.xkcd.com/comics/family_circus.jpg...Downloading image //imgs.xkcd.com/comics/religions.png...Downloading image //imgs.xkcd.com/comics/complexion.png...\n",
            "\n",
            "\n",
            "Downloading image //imgs.xkcd.com/comics/election.png...\n",
            "Downloading image //imgs.xkcd.com/comics/galilean_moons.png...Downloading image //imgs.xkcd.com/comics/important_life_lesson.png...\n",
            "Downloading image //imgs.xkcd.com/comics/beautiful_dream.png...\n",
            "\n",
            "Downloading image //imgs.xkcd.com/comics/android_boyfriend.png...\n",
            "Done.\n"
          ],
          "name": "stdout"
        },
        {
          "output_type": "stream",
          "text": [
            "Exception in thread Thread-44:\n",
            "Traceback (most recent call last):\n",
            "  File \"/usr/lib/python3.6/threading.py\", line 916, in _bootstrap_inner\n",
            "    self.run()\n",
            "  File \"/usr/lib/python3.6/threading.py\", line 864, in run\n",
            "    self._target(*self._args, **self._kwargs)\n",
            "  File \"<ipython-input-45-82120f69838c>\", line 21, in downloadXkcd\n",
            "    res = requests.get(comicUrl)\n",
            "  File \"/usr/local/lib/python3.6/dist-packages/requests/api.py\", line 75, in get\n",
            "    return request('get', url, params=params, **kwargs)\n",
            "  File \"/usr/local/lib/python3.6/dist-packages/requests/api.py\", line 60, in request\n",
            "    return session.request(method=method, url=url, **kwargs)\n",
            "  File \"/usr/local/lib/python3.6/dist-packages/requests/sessions.py\", line 519, in request\n",
            "    prep = self.prepare_request(req)\n",
            "  File \"/usr/local/lib/python3.6/dist-packages/requests/sessions.py\", line 462, in prepare_request\n",
            "    hooks=merge_hooks(request.hooks, self.hooks),\n",
            "  File \"/usr/local/lib/python3.6/dist-packages/requests/models.py\", line 313, in prepare\n",
            "    self.prepare_url(url, params)\n",
            "  File \"/usr/local/lib/python3.6/dist-packages/requests/models.py\", line 387, in prepare_url\n",
            "    raise MissingSchema(error)\n",
            "requests.exceptions.MissingSchema: Invalid URL '//imgs.xkcd.com/comics/galilean_moons.png': No schema supplied. Perhaps you meant http:////imgs.xkcd.com/comics/galilean_moons.png?\n",
            "\n",
            "Exception in thread Thread-39:\n",
            "Traceback (most recent call last):\n",
            "  File \"/usr/lib/python3.6/threading.py\", line 916, in _bootstrap_inner\n",
            "    self.run()\n",
            "  File \"/usr/lib/python3.6/threading.py\", line 864, in run\n",
            "    self._target(*self._args, **self._kwargs)\n",
            "  File \"<ipython-input-45-82120f69838c>\", line 21, in downloadXkcd\n",
            "    res = requests.get(comicUrl)\n",
            "  File \"/usr/local/lib/python3.6/dist-packages/requests/api.py\", line 75, in get\n",
            "    return request('get', url, params=params, **kwargs)\n",
            "  File \"/usr/local/lib/python3.6/dist-packages/requests/api.py\", line 60, in request\n",
            "    return session.request(method=method, url=url, **kwargs)\n",
            "  File \"/usr/local/lib/python3.6/dist-packages/requests/sessions.py\", line 519, in request\n",
            "    prep = self.prepare_request(req)\n",
            "  File \"/usr/local/lib/python3.6/dist-packages/requests/sessions.py\", line 462, in prepare_request\n",
            "    hooks=merge_hooks(request.hooks, self.hooks),\n",
            "  File \"/usr/local/lib/python3.6/dist-packages/requests/models.py\", line 313, in prepare\n",
            "    self.prepare_url(url, params)\n",
            "  File \"/usr/local/lib/python3.6/dist-packages/requests/models.py\", line 387, in prepare_url\n",
            "    raise MissingSchema(error)\n",
            "requests.exceptions.MissingSchema: Invalid URL '//imgs.xkcd.com/comics/beautiful_dream.png': No schema supplied. Perhaps you meant http:////imgs.xkcd.com/comics/beautiful_dream.png?\n",
            "\n",
            "Exception in thread Thread-37:\n",
            "Traceback (most recent call last):\n",
            "  File \"/usr/lib/python3.6/threading.py\", line 916, in _bootstrap_inner\n",
            "    self.run()\n",
            "  File \"/usr/lib/python3.6/threading.py\", line 864, in run\n",
            "    self._target(*self._args, **self._kwargs)\n",
            "  File \"<ipython-input-45-82120f69838c>\", line 21, in downloadXkcd\n",
            "    res = requests.get(comicUrl)\n",
            "  File \"/usr/local/lib/python3.6/dist-packages/requests/api.py\", line 75, in get\n",
            "    return request('get', url, params=params, **kwargs)\n",
            "  File \"/usr/local/lib/python3.6/dist-packages/requests/api.py\", line 60, in request\n",
            "    return session.request(method=method, url=url, **kwargs)\n",
            "  File \"/usr/local/lib/python3.6/dist-packages/requests/sessions.py\", line 519, in request\n",
            "    prep = self.prepare_request(req)\n",
            "  File \"/usr/local/lib/python3.6/dist-packages/requests/sessions.py\", line 462, in prepare_request\n",
            "    hooks=merge_hooks(request.hooks, self.hooks),\n",
            "  File \"/usr/local/lib/python3.6/dist-packages/requests/models.py\", line 313, in prepare\n",
            "    self.prepare_url(url, params)\n",
            "  File \"/usr/local/lib/python3.6/dist-packages/requests/models.py\", line 387, in prepare_url\n",
            "    raise MissingSchema(error)\n",
            "requests.exceptions.MissingSchema: Invalid URL '//imgs.xkcd.com/comics/android_boyfriend.png': No schema supplied. Perhaps you meant http:////imgs.xkcd.com/comics/android_boyfriend.png?\n",
            "\n"
          ],
          "name": "stderr"
        }
      ]
    },
    {
      "cell_type": "markdown",
      "metadata": {
        "id": "QXx5pzHy7Hj4",
        "colab_type": "text"
      },
      "source": [
        "## Launching Other Programs from Python"
      ]
    },
    {
      "cell_type": "code",
      "metadata": {
        "id": "eIB1G8jO7OYb",
        "colab_type": "code",
        "colab": {
          "base_uri": "https://localhost:8080/",
          "height": 33
        },
        "outputId": "ccce8794-77e3-4712-c207-167eb97368ff"
      },
      "source": [
        "import subprocess\n",
        "try:\n",
        "  subprocess.Popen('C:\\\\Windows\\\\System32\\\\calc.exe')\n",
        "except Exception as ex:\n",
        "  print(ex)"
      ],
      "execution_count": 49,
      "outputs": [
        {
          "output_type": "stream",
          "text": [
            "[Errno 2] No such file or directory: 'C:\\\\Windows\\\\System32\\\\calc.exe': 'C:\\\\Windows\\\\System32\\\\calc.exe'\n"
          ],
          "name": "stdout"
        }
      ]
    },
    {
      "cell_type": "code",
      "metadata": {
        "id": "9kGR9f9H7xOI",
        "colab_type": "code",
        "colab": {
          "base_uri": "https://localhost:8080/",
          "height": 33
        },
        "outputId": "f849435d-56a7-451a-81a0-b99dacb6c64d"
      },
      "source": [
        "try:\n",
        "  subprocess.Popen(['C:\\\\Windows\\\\notepad.exe', 'C:\\\\hello.txt'])\n",
        "except Exception as ex:\n",
        "  print(ex)"
      ],
      "execution_count": 50,
      "outputs": [
        {
          "output_type": "stream",
          "text": [
            "[Errno 2] No such file or directory: 'C:\\\\Windows\\\\notepad.exe': 'C:\\\\Windows\\\\notepad.exe'\n"
          ],
          "name": "stdout"
        }
      ]
    },
    {
      "cell_type": "code",
      "metadata": {
        "id": "93IRHBobIy0x",
        "colab_type": "code",
        "colab": {}
      },
      "source": [
        "timeLeft = 60\n",
        "while timeLeft 0:\n",
        "  print(timeLeft, end='')\n",
        "  time.sleep(0.5)\n",
        "  timeLeft -= 1\n",
        "subprocess.Popen(['start', 'alarm.wav'], shell=True)"
      ],
      "execution_count": 0,
      "outputs": []
    }
  ]
}