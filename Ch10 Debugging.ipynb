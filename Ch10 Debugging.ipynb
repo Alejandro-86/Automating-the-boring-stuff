{
  "nbformat": 4,
  "nbformat_minor": 0,
  "metadata": {
    "colab": {
      "name": "Chapter 10.ipynb",
      "provenance": [],
      "collapsed_sections": []
    },
    "kernelspec": {
      "name": "python3",
      "display_name": "Python 3"
    }
  },
  "cells": [
    {
      "cell_type": "markdown",
      "metadata": {
        "id": "fHtwJKQKT-Cp",
        "colab_type": "text"
      },
      "source": [
        "#Chapter 10 – Debugging"
      ]
    },
    {
      "cell_type": "markdown",
      "metadata": {
        "id": "dU-fH7vjT1iy",
        "colab_type": "text"
      },
      "source": [
        "##Debugging\n",
        "Now that you know enough to write more complicated programs, you may start finding not-so-simple bugs in them. This chapter covers some tools and techniques for finding the root cause of bugs in your program to help you fix bugs faster and with less effort.\n",
        "\n",
        "To paraphrase an old joke among programmers, “Writing code accounts for 90 percent of programming. Debugging code accounts for the other 90 percent.”\n",
        "\n",
        "Your computer will do only what you tell it to do; it won’t read your mind and do what you intended it to do. Even professional programmers create bugs all the time, so don’t feel discouraged if your program has a problem.\n",
        "\n",
        "Fortunately, there are a few tools and techniques to identify what exactly your code is doing and where it’s going wrong. First, you will look at logging and assertions, two features that can help you detect bugs early. In general, the earlier you catch bugs, the easier they will be to fix.\n",
        "\n",
        "Second, you will look at how to use the debugger. The debugger is a feature of IDLE that executes a program one instruction at a time, giving you a chance to inspect the values in variables while your code runs, and track how the values change over the course of your program. This is much slower than running the program at full speed, but it is helpful to see the actual values in a program while it runs, rather than deducing what the values might be from the source code."
      ]
    },
    {
      "cell_type": "markdown",
      "metadata": {
        "id": "S07yatrqUEGR",
        "colab_type": "text"
      },
      "source": [
        "##Raising Exceptions\n",
        "Python raises an exception whenever it tries to execute invalid code. In Chapter 3, you read about how to handle Python’s exceptions with try and except statements so that your program can recover from exceptions that you anticipated. But you can also raise your own exceptions in your code. Raising an exception is a way of saying, “Stop running the code in this function and move the program execution to the except statement.”\n",
        "\n",
        "Exceptions are raised with a raise statement. In code, a raise statement consists of the following:\n",
        "\n",
        "The raise keyword\n",
        "\n",
        "A call to the Exception() function\n",
        "\n",
        "A string with a helpful error message passed to the Exception() function\n",
        "\n",
        "For example, enter the following into the interactive shell:"
      ]
    },
    {
      "cell_type": "code",
      "metadata": {
        "id": "MVIo1OM7oDzZ",
        "colab_type": "code",
        "colab": {
          "base_uri": "https://localhost:8080/",
          "height": 33
        },
        "outputId": "804cf2be-6bfe-484b-c112-7563d5462c51"
      },
      "source": [
        "try:\n",
        "  raise Exception('This is the error message.')\n",
        "except:\n",
        "  print('Exc')"
      ],
      "execution_count": 1,
      "outputs": [
        {
          "output_type": "stream",
          "text": [
            "Exc\n"
          ],
          "name": "stdout"
        }
      ]
    },
    {
      "cell_type": "markdown",
      "metadata": {
        "id": "kiFMJ0K0UNT5",
        "colab_type": "text"
      },
      "source": [
        "If there are no try and except statements covering the raise statement that raised the exception, the program simply crashes and displays the exception’s error message.\n",
        "\n",
        "Often it’s the code that calls the function, not the function itself, that knows how to handle an exception. So you will commonly see a raise statement inside a function and the try and except statements in the code calling the function. For example, open a new file editor window, enter the following code, and save the program as boxPrint.py:"
      ]
    },
    {
      "cell_type": "code",
      "metadata": {
        "id": "G3EL2CLMoSaH",
        "colab_type": "code",
        "colab": {}
      },
      "source": [
        "def boxPrint(symbol, width, height):\n",
        "       if len(symbol) != 1:\n",
        "         raise Exception('Symbol must be a single character string.')\n",
        "       if width <= 2:\n",
        "         raise Exception('Width must be greater than 2.')\n",
        "       if height <= 2:\n",
        "         raise Exception('Height must be greater than 2.')\n",
        "       print(symbol * width)\n",
        "       for i in range(height - 2):\n",
        "           print(symbol + (' ' * (width - 2)) + symbol)\n",
        "       print(symbol * width)"
      ],
      "execution_count": 0,
      "outputs": []
    },
    {
      "cell_type": "markdown",
      "metadata": {
        "id": "oAWU_-LbUQxi",
        "colab_type": "text"
      },
      "source": [
        "Here we’ve defined a boxPrint() function that takes a character, a width, and a height, and uses the character to make a little picture of a box with that width and height. This box shape is printed to the screen.\n",
        "\n",
        "Say we want the character to be a single character, and the width and height to be greater than 2. We add if statements to raise exceptions if these requirements aren’t satisfied. Later, when we call boxPrint() with various arguments, our try/except will handle invalid arguments.\n",
        "\n",
        "This program uses the except Exception as err form of the except statement . If an Exception object is returned from boxPrint() , this except statement will store it in a variable named err. The Exception object can then be converted to a string by passing it to str() to produce a user-friendly error message . When you run this boxPrint.py, the output will look like this:"
      ]
    },
    {
      "cell_type": "code",
      "metadata": {
        "id": "7ewI4kPToYz4",
        "colab_type": "code",
        "colab": {
          "base_uri": "https://localhost:8080/",
          "height": 201
        },
        "outputId": "848f8853-689f-48e0-d8a1-e4f97b79a8f2"
      },
      "source": [
        "for sym, w, h in (('*', 4, 4), ('O', 20, 5), ('x', 1, 3), ('ZZ', 3, 3)):\n",
        "    try:\n",
        "           boxPrint(sym, w, h)\n",
        "    except Exception as err:\n",
        "         print('An exception happened: ' + str(err))"
      ],
      "execution_count": 5,
      "outputs": [
        {
          "output_type": "stream",
          "text": [
            "****\n",
            "*  *\n",
            "*  *\n",
            "****\n",
            "OOOOOOOOOOOOOOOOOOOO\n",
            "O                  O\n",
            "O                  O\n",
            "O                  O\n",
            "OOOOOOOOOOOOOOOOOOOO\n",
            "An exception happened: Width must be greater than 2.\n",
            "An exception happened: Symbol must be a single character string.\n"
          ],
          "name": "stdout"
        }
      ]
    },
    {
      "cell_type": "markdown",
      "metadata": {
        "id": "gqAtSzDNUmes",
        "colab_type": "text"
      },
      "source": [
        "Using the try and except statements, you can handle errors more gracefully instead of letting the entire program crash.\n",
        "\n",
        "## Getting the Traceback as a String\n",
        "When Python encounters an error, it produces a treasure trove of error information called the traceback. The traceback includes the error message, the line number of the line that caused the error, and the sequence of the function calls that led to the error. This sequence of calls is called the call stack.\n",
        "\n",
        "Open a new file editor window in IDLE, enter the following program, and save it as errorExample.py:\n"
      ]
    },
    {
      "cell_type": "markdown",
      "metadata": {
        "id": "sVOPWJ59Uw3y",
        "colab_type": "text"
      },
      "source": [
        "When you run errorExample.py, the output will look like this:"
      ]
    },
    {
      "cell_type": "code",
      "metadata": {
        "id": "pf4cEXMOUo9u",
        "colab_type": "code",
        "colab": {
          "base_uri": "https://localhost:8080/",
          "height": 336
        },
        "outputId": "c071e033-5bee-463c-8820-f87413d9ff64"
      },
      "source": [
        "def spam():\n",
        "    bacon()\n",
        "def bacon():\n",
        "    raise Exception('This is the error message.')\n",
        "\n",
        "spam()"
      ],
      "execution_count": 1,
      "outputs": [
        {
          "output_type": "error",
          "ename": "Exception",
          "evalue": "ignored",
          "traceback": [
            "\u001b[0;31m---------------------------------------------------------------------------\u001b[0m",
            "\u001b[0;31mException\u001b[0m                                 Traceback (most recent call last)",
            "\u001b[0;32m<ipython-input-1-f6c4cdc54dd2>\u001b[0m in \u001b[0;36m<module>\u001b[0;34m()\u001b[0m\n\u001b[1;32m      4\u001b[0m     \u001b[0;32mraise\u001b[0m \u001b[0mException\u001b[0m\u001b[0;34m(\u001b[0m\u001b[0;34m'This is the error message.'\u001b[0m\u001b[0;34m)\u001b[0m\u001b[0;34m\u001b[0m\u001b[0;34m\u001b[0m\u001b[0m\n\u001b[1;32m      5\u001b[0m \u001b[0;34m\u001b[0m\u001b[0m\n\u001b[0;32m----> 6\u001b[0;31m \u001b[0mspam\u001b[0m\u001b[0;34m(\u001b[0m\u001b[0;34m)\u001b[0m\u001b[0;34m\u001b[0m\u001b[0;34m\u001b[0m\u001b[0m\n\u001b[0m",
            "\u001b[0;32m<ipython-input-1-f6c4cdc54dd2>\u001b[0m in \u001b[0;36mspam\u001b[0;34m()\u001b[0m\n\u001b[1;32m      1\u001b[0m \u001b[0;32mdef\u001b[0m \u001b[0mspam\u001b[0m\u001b[0;34m(\u001b[0m\u001b[0;34m)\u001b[0m\u001b[0;34m:\u001b[0m\u001b[0;34m\u001b[0m\u001b[0;34m\u001b[0m\u001b[0m\n\u001b[0;32m----> 2\u001b[0;31m     \u001b[0mbacon\u001b[0m\u001b[0;34m(\u001b[0m\u001b[0;34m)\u001b[0m\u001b[0;34m\u001b[0m\u001b[0;34m\u001b[0m\u001b[0m\n\u001b[0m\u001b[1;32m      3\u001b[0m \u001b[0;32mdef\u001b[0m \u001b[0mbacon\u001b[0m\u001b[0;34m(\u001b[0m\u001b[0;34m)\u001b[0m\u001b[0;34m:\u001b[0m\u001b[0;34m\u001b[0m\u001b[0;34m\u001b[0m\u001b[0m\n\u001b[1;32m      4\u001b[0m     \u001b[0;32mraise\u001b[0m \u001b[0mException\u001b[0m\u001b[0;34m(\u001b[0m\u001b[0;34m'This is the error message.'\u001b[0m\u001b[0;34m)\u001b[0m\u001b[0;34m\u001b[0m\u001b[0;34m\u001b[0m\u001b[0m\n\u001b[1;32m      5\u001b[0m \u001b[0;34m\u001b[0m\u001b[0m\n",
            "\u001b[0;32m<ipython-input-1-f6c4cdc54dd2>\u001b[0m in \u001b[0;36mbacon\u001b[0;34m()\u001b[0m\n\u001b[1;32m      2\u001b[0m     \u001b[0mbacon\u001b[0m\u001b[0;34m(\u001b[0m\u001b[0;34m)\u001b[0m\u001b[0;34m\u001b[0m\u001b[0;34m\u001b[0m\u001b[0m\n\u001b[1;32m      3\u001b[0m \u001b[0;32mdef\u001b[0m \u001b[0mbacon\u001b[0m\u001b[0;34m(\u001b[0m\u001b[0;34m)\u001b[0m\u001b[0;34m:\u001b[0m\u001b[0;34m\u001b[0m\u001b[0;34m\u001b[0m\u001b[0m\n\u001b[0;32m----> 4\u001b[0;31m     \u001b[0;32mraise\u001b[0m \u001b[0mException\u001b[0m\u001b[0;34m(\u001b[0m\u001b[0;34m'This is the error message.'\u001b[0m\u001b[0;34m)\u001b[0m\u001b[0;34m\u001b[0m\u001b[0;34m\u001b[0m\u001b[0m\n\u001b[0m\u001b[1;32m      5\u001b[0m \u001b[0;34m\u001b[0m\u001b[0m\n\u001b[1;32m      6\u001b[0m \u001b[0mspam\u001b[0m\u001b[0;34m(\u001b[0m\u001b[0;34m)\u001b[0m\u001b[0;34m\u001b[0m\u001b[0;34m\u001b[0m\u001b[0m\n",
            "\u001b[0;31mException\u001b[0m: This is the error message."
          ]
        }
      ]
    },
    {
      "cell_type": "markdown",
      "metadata": {
        "id": "dkdZW7NjU0j3",
        "colab_type": "text"
      },
      "source": [
        "From the traceback, you can see that the error happened on line 5, in the bacon() function. This particular call to bacon() came from line 2, in the spam() function, which in turn was called on line 7. In programs where functions can be called from multiple places, the call stack can help you determine which call led to the error.\n",
        "\n",
        "The traceback is displayed by Python whenever a raised exception goes unhandled. But you can also obtain it as a string by calling traceback.format_exc(). This function is useful if you want the information from an exception’s traceback but also want an except statement to gracefully handle the exception. You will need to import Python’s traceback module before calling this function.\n",
        "\n",
        "For example, instead of crashing your program right when an exception occurs, you can write the traceback information to a log file and keep your program running. You can look at the log file later, when you’re ready to debug your program. Enter the following into the interactive shell:\n",
        "\n"
      ]
    },
    {
      "cell_type": "code",
      "metadata": {
        "id": "njP054lAVPbv",
        "colab_type": "code",
        "colab": {
          "base_uri": "https://localhost:8080/",
          "height": 33
        },
        "outputId": "a98d9b7f-7715-467a-c9b7-3699bd228d3f"
      },
      "source": [
        "import traceback\n",
        "try:\n",
        "         raise Exception('This is the error message.')\n",
        "except:\n",
        "         errorFile = open('errorInfo.txt', 'w')\n",
        "         errorFile.write(traceback.format_exc())\n",
        "         errorFile.close()\n",
        "         print('The traceback info was written to errorInfo.txt.')"
      ],
      "execution_count": 2,
      "outputs": [
        {
          "output_type": "stream",
          "text": [
            "The traceback info was written to errorInfo.txt.\n"
          ],
          "name": "stdout"
        }
      ]
    },
    {
      "cell_type": "markdown",
      "metadata": {
        "id": "L-E4sEC9VX_X",
        "colab_type": "text"
      },
      "source": [
        "## Assertions\n",
        "\n",
        "An assertion is a sanity check to make sure your code isn’t doing something obviously wrong. These sanity checks are performed by assert statements. If the sanity check fails, then an AssertionError exception is raised. In code, an assert statement consists of the following:\n",
        "\n",
        "The assert keyword\n",
        "\n",
        "A condition (that is, an expression that evaluates to True or False)\n",
        "\n",
        "A comma\n",
        "\n",
        "A string to display when the condition is False\n",
        "\n",
        "For example, enter the following into the interactive shell:"
      ]
    },
    {
      "cell_type": "code",
      "metadata": {
        "id": "FP-yw_Z_Vcf3",
        "colab_type": "code",
        "colab": {
          "base_uri": "https://localhost:8080/",
          "height": 195
        },
        "outputId": "5b3aa137-2a15-483a-a5cd-99a7df34b5b5"
      },
      "source": [
        "podBayDoorStatus = 'open'\n",
        "assert podBayDoorStatus == 'open', 'The pod bay doors need to be \"open\".'\n",
        "podBayDoorStatus = 'I\\'m sorry, Dave. I\\'m afraid I can\\'t do that.'\n",
        "assert podBayDoorStatus == 'open', 'The pod bay doors need to be \"open\".'\n"
      ],
      "execution_count": 4,
      "outputs": [
        {
          "output_type": "error",
          "ename": "AssertionError",
          "evalue": "ignored",
          "traceback": [
            "\u001b[0;31m---------------------------------------------------------------------------\u001b[0m",
            "\u001b[0;31mAssertionError\u001b[0m                            Traceback (most recent call last)",
            "\u001b[0;32m<ipython-input-4-56dda2bd651e>\u001b[0m in \u001b[0;36m<module>\u001b[0;34m()\u001b[0m\n\u001b[1;32m      2\u001b[0m \u001b[0;32massert\u001b[0m \u001b[0mpodBayDoorStatus\u001b[0m \u001b[0;34m==\u001b[0m \u001b[0;34m'open'\u001b[0m\u001b[0;34m,\u001b[0m \u001b[0;34m'The pod bay doors need to be \"open\".'\u001b[0m\u001b[0;34m\u001b[0m\u001b[0;34m\u001b[0m\u001b[0m\n\u001b[1;32m      3\u001b[0m \u001b[0mpodBayDoorStatus\u001b[0m \u001b[0;34m=\u001b[0m \u001b[0;34m'I\\'m sorry, Dave. I\\'m afraid I can\\'t do that.'\u001b[0m\u001b[0;34m\u001b[0m\u001b[0;34m\u001b[0m\u001b[0m\n\u001b[0;32m----> 4\u001b[0;31m \u001b[0;32massert\u001b[0m \u001b[0mpodBayDoorStatus\u001b[0m \u001b[0;34m==\u001b[0m \u001b[0;34m'open'\u001b[0m\u001b[0;34m,\u001b[0m \u001b[0;34m'The pod bay doors need to be \"open\".'\u001b[0m\u001b[0;34m\u001b[0m\u001b[0;34m\u001b[0m\u001b[0m\n\u001b[0m",
            "\u001b[0;31mAssertionError\u001b[0m: The pod bay doors need to be \"open\"."
          ]
        }
      ]
    },
    {
      "cell_type": "markdown",
      "metadata": {
        "id": "52nkT21_Vq8C",
        "colab_type": "text"
      },
      "source": [
        "Here we’ve set podBayDoorStatus to 'open', so from now on, we fully expect the value of this variable to be 'open'. In a program that uses this variable, we might have written a lot of code under the assumption that the value is 'open'—code that depends on its being 'open' in order to work as we expect. So we add an assertion to make sure we’re right to assume podBayDoorStatus is 'open'. Here, we include the message 'The pod bay doors need to be \"open\".' so it’ll be easy to see what’s wrong if the assertion fails.\n",
        "\n",
        "Later, say we make the obvious mistake of assigning podBayDoorStatus another value, but don’t notice it among many lines of code. The assertion catches this mistake and clearly tells us what’s wrong.\n",
        "\n",
        "In plain English, an assert statement says, “I assert that this condition holds true, and if not, there is a bug somewhere in the program.” Unlike exceptions, your code should not handle assert statements with try and except; if an assert fails, your program should crash. By failing fast like this, you shorten the time between the original cause of the bug and when you first notice the bug. This will reduce the amount of code you will have to check before finding the code that’s causing the bug.\n",
        "\n",
        "Assertions are for programmer errors, not user errors. For errors that can be recovered from (such as a file not being found or the user entering invalid data), raise an exception instead of detecting it with an assert statement."
      ]
    },
    {
      "cell_type": "markdown",
      "metadata": {
        "id": "KgN2wcYgVsXB",
        "colab_type": "text"
      },
      "source": [
        "## Using an Assertion in a Traffic Light Simulation\n",
        "\n",
        "Say you’re building a traffic light simulation program. The data structure representing the stoplights at an intersection is a dictionary with keys 'ns' and 'ew', for the stoplights facing north-south and east-west, respectively. The values at these keys will be one of the strings 'green', ' yellow', or 'red'. The code would look something like this:\n",
        "\n",
        "\n",
        "market_2nd = {'ns': 'green', 'ew': 'red'}\n",
        "mission_16th = {'ns': 'red', 'ew': 'green'}\n",
        "These two variables will be for the intersections of Market Street and 2nd Street, and Mission Street and 16th Street. To start the project, you want to write a switchLights() function, which will take an intersection dictionary as an argument and switch the lights.\n",
        "\n",
        "At first, you might think that switchLights() should simply switch each light to the next color in the sequence: Any 'green' values should change to 'yellow', 'yellow' values should change to 'red', and 'red' values should change to 'green'. The code to implement this idea might look like this:"
      ]
    },
    {
      "cell_type": "code",
      "metadata": {
        "id": "aH_ZNUM3Vzxs",
        "colab_type": "code",
        "colab": {}
      },
      "source": [
        "market_2nd = {'ns': 'green', 'ew': 'red'}\n",
        "mission_16th = {'ns': 'red', 'ew': 'green'}\n",
        "\n",
        "def switchLights(stoplight):\n",
        "    for key in stoplight.keys():\n",
        "        if stoplight[key] == 'green':\n",
        "            stoplight[key] = 'yellow'\n",
        "        elif stoplight[key] == 'yellow':\n",
        "            stoplight[key] = 'red'\n",
        "        elif stoplight[key] == 'red':\n",
        "            stoplight[key] = 'green'\n",
        "\n",
        "switchLights(market_2nd)"
      ],
      "execution_count": 0,
      "outputs": []
    },
    {
      "cell_type": "markdown",
      "metadata": {
        "id": "YAmC4uoBWD8e",
        "colab_type": "text"
      },
      "source": [
        "You may already see the problem with this code, but let’s pretend you wrote the rest of the simulation code, thousands of lines long, without noticing it. When you finally do run the simulation, the program doesn’t crash—but your virtual cars do!\n",
        "\n",
        "Since you’ve already written the rest of the program, you have no idea where the bug could be. Maybe it’s in the code simulating the cars or in the code simulating the virtual drivers. It could take hours to trace the bug back to the switchLights() function.\n",
        "\n",
        "But if while writing switchLights() you had added an assertion to check that at least one of the lights is always red, you might have included the following at the bottom of the function:"
      ]
    },
    {
      "cell_type": "code",
      "metadata": {
        "id": "89DsQkCXWEqB",
        "colab_type": "code",
        "colab": {
          "base_uri": "https://localhost:8080/",
          "height": 161
        },
        "outputId": "97fe44a5-87ff-45da-93f9-93972f9b388d"
      },
      "source": [
        "assert 'red' in stoplight.values(), 'Neither light is red! ' + str(stoplight)"
      ],
      "execution_count": 8,
      "outputs": [
        {
          "output_type": "error",
          "ename": "NameError",
          "evalue": "ignored",
          "traceback": [
            "\u001b[0;31m---------------------------------------------------------------------------\u001b[0m",
            "\u001b[0;31mNameError\u001b[0m                                 Traceback (most recent call last)",
            "\u001b[0;32m<ipython-input-8-e826f96d2979>\u001b[0m in \u001b[0;36m<module>\u001b[0;34m()\u001b[0m\n\u001b[0;32m----> 1\u001b[0;31m \u001b[0;32massert\u001b[0m \u001b[0;34m'red'\u001b[0m \u001b[0;32min\u001b[0m \u001b[0mstoplight\u001b[0m\u001b[0;34m.\u001b[0m\u001b[0mvalues\u001b[0m\u001b[0;34m(\u001b[0m\u001b[0;34m)\u001b[0m\u001b[0;34m,\u001b[0m \u001b[0;34m'Neither light is red! '\u001b[0m \u001b[0;34m+\u001b[0m \u001b[0mstr\u001b[0m\u001b[0;34m(\u001b[0m\u001b[0mstoplight\u001b[0m\u001b[0;34m)\u001b[0m\u001b[0;34m\u001b[0m\u001b[0;34m\u001b[0m\u001b[0m\n\u001b[0m",
            "\u001b[0;31mNameError\u001b[0m: name 'stoplight' is not defined"
          ]
        }
      ]
    },
    {
      "cell_type": "markdown",
      "metadata": {
        "id": "-fuGw8p7WYib",
        "colab_type": "text"
      },
      "source": [
        "The important line here is the AssertionError ❶. While your program crashing is not ideal, it immediately points out that a sanity check failed: Neither direction of traffic has a red light, meaning that traffic could be going both ways. By failing fast early in the program’s execution, you can save yourself a lot of future debugging effort."
      ]
    },
    {
      "cell_type": "markdown",
      "metadata": {
        "id": "009RWXPiWZh3",
        "colab_type": "text"
      },
      "source": [
        "## Disabling Assertions\n",
        "Assertions can be disabled by passing the -O option when running Python. This is good for when you have finished writing and testing your program and don’t want it to be slowed down by performing sanity checks (although most of the time assert statements do not cause a noticeable speed difference). Assertions are for development, not the final product. By the time you hand off your program to someone else to run, it should be free of bugs and not require the sanity checks. See Appendix B for details about how to launch your probably-not-insane programs with the -O option."
      ]
    },
    {
      "cell_type": "markdown",
      "metadata": {
        "id": "aiKE0EAuWcaE",
        "colab_type": "text"
      },
      "source": [
        "## Logging\n",
        "If you’ve ever put a print() statement in your code to output some variable’s value while your program is running, you’ve used a form of logging to debug your code. Logging is a great way to understand what’s happening in your program and in what order its happening. Python’s logging module makes it easy to create a record of custom messages that you write. These log messages will describe when the program execution has reached the logging function call and list any variables you have specified at that point in time. On the other hand, a missing log message indicates a part of the code was skipped and never executed."
      ]
    },
    {
      "cell_type": "markdown",
      "metadata": {
        "id": "Tuy2EnvJWfAN",
        "colab_type": "text"
      },
      "source": [
        "## Using the logging Module\n",
        "To enable the logging module to display log messages on your screen as your program runs, copy the following to the top of your program (but under the #! python shebang line):"
      ]
    },
    {
      "cell_type": "code",
      "metadata": {
        "id": "PNG7G15TWhw2",
        "colab_type": "code",
        "colab": {}
      },
      "source": [
        "import logging\n",
        "logging.basicConfig(level=logging.DEBUG, format=' %(asctime)s - %(levelname)s - %(message)s')"
      ],
      "execution_count": 0,
      "outputs": []
    },
    {
      "cell_type": "markdown",
      "metadata": {
        "id": "yYkt-HQ1Wniu",
        "colab_type": "text"
      },
      "source": [
        "You don’t need to worry too much about how this works, but basically, when Python logs an event, it creates a LogRecord object that holds information about that event. The logging module’s basicConfig() function lets you specify what details about the LogRecord object you want to see and how you want those details displayed.\n",
        "\n",
        "Say you wrote a function to calculate the factorial of a number. In mathematics, factorial 4 is 1 × 2 × 3 × 4, or 24. Factorial 7 is 1 × 2 × 3 × 4 × 5 × 6 × 7, or 5,040. Open a new file editor window and enter the following code. It has a bug in it, but you will also enter several log messages to help yourself figure out what is going wrong. Save the program as factorialLog.py."
      ]
    },
    {
      "cell_type": "markdown",
      "metadata": {
        "id": "ZZQSmlkZWz0n",
        "colab_type": "text"
      },
      "source": [
        "Here, we use the logging.debug() function when we want to print log information. This debug() function will call basicConfig(), and a line of information will be printed. This information will be in the format we specified in basicConfig() and will include the messages we passed to debug(). The print(factorial(5)) call is part of the original program, so the result is displayed even if logging messages are disabled.\n",
        "\n",
        "The output of this program looks like this:"
      ]
    },
    {
      "cell_type": "code",
      "metadata": {
        "id": "XpompvY9Wpbo",
        "colab_type": "code",
        "colab": {
          "base_uri": "https://localhost:8080/",
          "height": 201
        },
        "outputId": "aac5c3f1-68cb-4701-c7d8-bea60ab9abbf"
      },
      "source": [
        "import logging\n",
        "logging.basicConfig(level=logging.DEBUG, format=' %(asctime)s - %(levelname)s - %(message)s')\n",
        "logging.debug('Start of program')\n",
        "\n",
        "def factorial(n):\n",
        "    logging.debug('Start of factorial(%s)' % (n))\n",
        "    total = 1\n",
        "    for i in range(n + 1):\n",
        "        total *= i\n",
        "        logging.debug('i is ' + str(i) + ', total is ' + str(total))\n",
        "    logging.debug('End of factorial(%s)' % (n))\n",
        "    return total\n",
        "\n",
        "print(factorial(5))\n",
        "logging.debug('End of program')"
      ],
      "execution_count": 12,
      "outputs": [
        {
          "output_type": "stream",
          "text": [
            " 2019-11-09 13:29:38,973 - DEBUG - Start of program\n",
            " 2019-11-09 13:29:38,976 - DEBUG - Start of factorial(5)\n",
            " 2019-11-09 13:29:38,978 - DEBUG - i is 0, total is 0\n",
            " 2019-11-09 13:29:38,980 - DEBUG - i is 1, total is 0\n",
            " 2019-11-09 13:29:38,982 - DEBUG - i is 2, total is 0\n",
            " 2019-11-09 13:29:38,983 - DEBUG - i is 3, total is 0\n",
            " 2019-11-09 13:29:38,984 - DEBUG - i is 4, total is 0\n",
            " 2019-11-09 13:29:38,986 - DEBUG - i is 5, total is 0\n",
            " 2019-11-09 13:29:38,988 - DEBUG - End of factorial(5)\n",
            " 2019-11-09 13:29:38,990 - DEBUG - End of program\n"
          ],
          "name": "stderr"
        },
        {
          "output_type": "stream",
          "text": [
            "0\n"
          ],
          "name": "stdout"
        }
      ]
    },
    {
      "cell_type": "markdown",
      "metadata": {
        "id": "gtwnJWfDW9FB",
        "colab_type": "text"
      },
      "source": [
        "The factorial() function is returning 0 as the factorial of 5, which isn’t right. The for loop should be multiplying the value in total by the numbers from 1 to 5. But the log messages displayed by logging.debug() show that the i variable is starting at 0 instead of 1. Since zero times anything is zero, the rest of the iterations also have the wrong value for total. Logging messages provide a trail of breadcrumbs that can help you figure out when things started to go wrong.\n",
        "\n",
        "Change the for i in range(n + 1): line to for i in range(1, n + 1):, and run the program again. The output will look like this:"
      ]
    },
    {
      "cell_type": "code",
      "metadata": {
        "id": "t3EoGRWwW__j",
        "colab_type": "code",
        "colab": {
          "base_uri": "https://localhost:8080/",
          "height": 167
        },
        "outputId": "32ba92bb-e0fd-4de9-f943-e1ec48cedfda"
      },
      "source": [
        "def factorial(n):\n",
        "    logging.debug('Start of factorial(%s)' % (n))\n",
        "    total = 1\n",
        "    for i in range(1, n + 1):\n",
        "        total *= i\n",
        "        logging.debug('i is ' + str(i) + ', total is ' + str(total))\n",
        "    logging.debug('End of factorial(%s)' % (n))\n",
        "    return total\n",
        "\n",
        "print(factorial(5))\n",
        "logging.debug('End of program')"
      ],
      "execution_count": 13,
      "outputs": [
        {
          "output_type": "stream",
          "text": [
            " 2019-11-09 13:31:18,720 - DEBUG - Start of factorial(5)\n",
            " 2019-11-09 13:31:18,723 - DEBUG - i is 1, total is 1\n",
            " 2019-11-09 13:31:18,724 - DEBUG - i is 2, total is 2\n",
            " 2019-11-09 13:31:18,725 - DEBUG - i is 3, total is 6\n",
            " 2019-11-09 13:31:18,727 - DEBUG - i is 4, total is 24\n",
            " 2019-11-09 13:31:18,729 - DEBUG - i is 5, total is 120\n",
            " 2019-11-09 13:31:18,730 - DEBUG - End of factorial(5)\n",
            " 2019-11-09 13:31:18,732 - DEBUG - End of program\n"
          ],
          "name": "stderr"
        },
        {
          "output_type": "stream",
          "text": [
            "120\n"
          ],
          "name": "stdout"
        }
      ]
    },
    {
      "cell_type": "markdown",
      "metadata": {
        "id": "oMyTc9psXOor",
        "colab_type": "text"
      },
      "source": [
        "The factorial(5) call correctly returns 120. The log messages showed what was going on inside the loop, which led straight to the bug.\n",
        "\n",
        "You can see that the logging.debug() calls printed out not just the strings passed to them but also a timestamp and the word DEBUG."
      ]
    },
    {
      "cell_type": "markdown",
      "metadata": {
        "id": "Q8GN_Z7WXP6j",
        "colab_type": "text"
      },
      "source": [
        "## Don’t Debug with print()\n",
        "\n",
        "Typing import logging and logging.basicConfig(level=logging.DEBUG, format= '%(asctime)s - %(levelname)s - %(message)s') is somewhat unwieldy. You may want to use print() calls instead, but don’t give in to this temptation! Once you’re done debugging, you’ll end up spending a lot of time removing print() calls from your code for each log message. You might even accidentally remove some print() calls that were being used for nonlog messages. The nice thing about log messages is that you’re free to fill your program with as many as you like, and you can always disable them later by adding a single logging.disable(logging.CRITICAL) call. Unlike print(), the logging module makes it easy to switch between showing and hiding log messages.\n",
        "\n",
        "Log messages are intended for the programmer, not the user. The user won’t care about the contents of some dictionary value you need to see to help with debugging; use a log message for something like that. For messages that the user will want to see, like File not found or Invalid input, please enter a number, you should use a print() call. You don’t want to deprive the user of useful information after you’ve disabled log messages."
      ]
    },
    {
      "cell_type": "markdown",
      "metadata": {
        "id": "jYsrTPb2XaBa",
        "colab_type": "text"
      },
      "source": [
        "##Logging Levels\n",
        "\n",
        "Logging levels provide a way to categorize your log messages by importance. There are five logging levels, described in Table 10-1 from least to most important. Messages can be logged at each level using a different logging function.\n",
        "\n",
        "Table 10-1. Logging Levels in Python\n",
        "\n",
        "Level\n",
        "\n",
        "Logging Function\n",
        "\n",
        "Description\n",
        "\n",
        "DEBUG\n",
        "\n",
        "logging.debug()\n",
        "\n",
        "The lowest level. Used for small details. Usually you care about these messages only when diagnosing problems.\n",
        "\n",
        "INFO\n",
        "\n",
        "logging.info()\n",
        "\n",
        "Used to record information on general events in your program or confirm that things are working at their point in the program.\n",
        "\n",
        "WARNING\n",
        "\n",
        "logging.warning()\n",
        "\n",
        "Used to indicate a potential problem that doesn’t prevent the program from working but might do so in the future.\n",
        "\n",
        "ERROR\n",
        "\n",
        "logging.error()\n",
        "\n",
        "Used to record an error that caused the program to fail to do something.\n",
        "\n",
        "CRITICAL\n",
        "\n",
        "logging.critical()\n",
        "\n",
        "The highest level. Used to indicate a fatal error that has caused or is about to cause the program to stop running entirely.\n",
        "\n",
        "Your logging message is passed as a string to these functions. The logging levels are suggestions. Ultimately, it is up to you to decide which category your log message falls into. Enter the following into the interactive shell:"
      ]
    },
    {
      "cell_type": "code",
      "metadata": {
        "id": "nvezQKgRXdFS",
        "colab_type": "code",
        "colab": {
          "base_uri": "https://localhost:8080/",
          "height": 33
        },
        "outputId": "6d4ea160-9a78-4ef5-f7b6-90971d61e4df"
      },
      "source": [
        "import logging\n",
        "logging.basicConfig(level=logging.DEBUG, format=' %(asctime)s - %(levelname)s - %(message)s')\n",
        "logging.debug('Some debugging details.')"
      ],
      "execution_count": 14,
      "outputs": [
        {
          "output_type": "stream",
          "text": [
            " 2019-11-09 13:34:02,613 - DEBUG - Some debugging details.\n"
          ],
          "name": "stderr"
        }
      ]
    },
    {
      "cell_type": "code",
      "metadata": {
        "id": "ty5lh29_Xz4I",
        "colab_type": "code",
        "colab": {
          "base_uri": "https://localhost:8080/",
          "height": 33
        },
        "outputId": "0116d73f-03f8-48b4-9820-fa06b7e785ee"
      },
      "source": [
        "logging.info('The logging module is working.')"
      ],
      "execution_count": 15,
      "outputs": [
        {
          "output_type": "stream",
          "text": [
            " 2019-11-09 13:34:29,287 - INFO - The logging module is working.\n"
          ],
          "name": "stderr"
        }
      ]
    },
    {
      "cell_type": "code",
      "metadata": {
        "id": "qvzYAetGX0Wz",
        "colab_type": "code",
        "colab": {
          "base_uri": "https://localhost:8080/",
          "height": 33
        },
        "outputId": "ebdf48e7-2392-49b2-8775-ee64c2b0d3b5"
      },
      "source": [
        "logging.warning('An error message is about to be logged.')"
      ],
      "execution_count": 16,
      "outputs": [
        {
          "output_type": "stream",
          "text": [
            " 2019-11-09 13:34:29,846 - WARNING - An error message is about to be logged.\n"
          ],
          "name": "stderr"
        }
      ]
    },
    {
      "cell_type": "code",
      "metadata": {
        "id": "texTWwltX2cz",
        "colab_type": "code",
        "colab": {
          "base_uri": "https://localhost:8080/",
          "height": 33
        },
        "outputId": "38fea53f-59bd-48df-81ce-f82b028abb07"
      },
      "source": [
        "logging.error('An error has occurred.')"
      ],
      "execution_count": 17,
      "outputs": [
        {
          "output_type": "stream",
          "text": [
            " 2019-11-09 13:34:31,267 - ERROR - An error has occurred.\n"
          ],
          "name": "stderr"
        }
      ]
    },
    {
      "cell_type": "code",
      "metadata": {
        "id": "4B-ydzVkX31A",
        "colab_type": "code",
        "colab": {
          "base_uri": "https://localhost:8080/",
          "height": 33
        },
        "outputId": "8c0b1dd8-c33f-4a84-aab1-cbde3464a2b1"
      },
      "source": [
        "logging.critical('The program is unable to recover!')"
      ],
      "execution_count": 18,
      "outputs": [
        {
          "output_type": "stream",
          "text": [
            " 2019-11-09 13:34:31,841 - CRITICAL - The program is unable to recover!\n"
          ],
          "name": "stderr"
        }
      ]
    },
    {
      "cell_type": "markdown",
      "metadata": {
        "id": "L_lABCRjX6-l",
        "colab_type": "text"
      },
      "source": [
        "The benefit of logging levels is that you can change what priority of logging message you want to see. Passing logging.DEBUG to the basicConfig() function’s level keyword argument will show messages from all the logging levels (DEBUG being the lowest level). But after developing your program some more, you may be interested only in errors. In that case, you can set basicConfig()’s level argument to logging.ERROR. This will show only ERROR and CRITICAL messages and skip the DEBUG, INFO, and WARNING messages."
      ]
    },
    {
      "cell_type": "markdown",
      "metadata": {
        "id": "7SyKdcRPX89K",
        "colab_type": "text"
      },
      "source": [
        "## Disabling Logging\n",
        "\n",
        "After you’ve debugged your program, you probably don’t want all these log messages cluttering the screen. The logging.disable() function disables these so that you don’t have to go into your program and remove all the logging calls by hand. You simply pass logging.disable() a logging level, and it will suppress all log messages at that level or lower. So if you want to disable logging entirely, just add logging.disable(logging.CRITICAL) to your program. For example, enter the following into the interactive shell:"
      ]
    },
    {
      "cell_type": "code",
      "metadata": {
        "id": "6W9IpgVMYAbH",
        "colab_type": "code",
        "colab": {}
      },
      "source": [
        "import logging\n",
        "logging.basicConfig(level=logging.INFO, format=' %(asctime)s - %(levelname)s - %(message)s')\n",
        "logging.critical('Critical error! Critical error!')\n",
        "\n"
      ],
      "execution_count": 0,
      "outputs": []
    },
    {
      "cell_type": "code",
      "metadata": {
        "id": "xGZ5LO9pYKEh",
        "colab_type": "code",
        "colab": {}
      },
      "source": [
        "logging.disable(logging.CRITICAL)\n",
        "logging.critical('Critical error! Critical error!')\n",
        "logging.error('Error! Error!')"
      ],
      "execution_count": 0,
      "outputs": []
    },
    {
      "cell_type": "markdown",
      "metadata": {
        "id": "Dv2szyMoYMP5",
        "colab_type": "text"
      },
      "source": [
        "Since logging.disable() will disable all messages after it, you will probably want to add it near the import logging line of code in your program. This way, you can easily find it to comment out or uncomment that call to enable or disable logging messages as needed."
      ]
    },
    {
      "cell_type": "markdown",
      "metadata": {
        "id": "UHfxwazy1Fjo",
        "colab_type": "text"
      },
      "source": [
        "## Logging to a File\n",
        "Instead of displaying the log messages to the screen, you can write them to a text file. The logging.basicConfig() function takes a filename keyword argument, like so:"
      ]
    },
    {
      "cell_type": "code",
      "metadata": {
        "id": "S78dCFBM1Jnw",
        "colab_type": "code",
        "colab": {}
      },
      "source": [
        "import logging\n",
        "logging.basicConfig(filename='myProgramLog.txt', level=logging.DEBUG, format='%(asctime)s - %(levelname)s - %(message)s')"
      ],
      "execution_count": 0,
      "outputs": []
    },
    {
      "cell_type": "markdown",
      "metadata": {
        "id": "7zgRPGu01QYq",
        "colab_type": "text"
      },
      "source": [
        "The log messages will be saved to myProgramLog.txt. While logging messages are helpful, they can clutter your screen and make it hard to read the program’s output. Writing the logging messages to a file will keep your screen clear and store the messages so you can read them after running the program. You can open this text file in any text editor, such as Notepad or TextEdit."
      ]
    },
    {
      "cell_type": "markdown",
      "metadata": {
        "id": "tAS4aOAb3T1o",
        "colab_type": "text"
      },
      "source": [
        "## Debugging Coin Toss\n",
        "The following program is meant to be a simple coin toss guessing game. The player gets two guesses (it’s an easy game). However, the program has several bugs in it. Run through the program a few times to find the bugs that keep the program from working correctly."
      ]
    },
    {
      "cell_type": "code",
      "metadata": {
        "id": "Ar4ny_yE2Gc3",
        "colab_type": "code",
        "colab": {
          "base_uri": "https://localhost:8080/",
          "height": 84
        },
        "outputId": "b98a85d1-c3b8-4f02-8ab0-92159fc31aaf"
      },
      "source": [
        "import random\n",
        "guess = ''\n",
        "while guess not in ('heads', 'tails'):\n",
        "    print('Guess the coin toss! Enter heads or tails:')\n",
        "    guess = input()\n",
        "toss = random.randint(0, 1) # 0 is tails, 1 is heads\n",
        "if toss == 0:\n",
        "  toss = 'tails'\n",
        "else:\n",
        "  toss = 'heads'\n",
        "print(toss)\n",
        "if toss == guess:\n",
        "    print('You got it!')\n",
        "else:\n",
        "    print('Nope! Guess again!')\n",
        "    guess = input()\n",
        "    if toss == guess:\n",
        "       print('You got it!')\n",
        "    else:\n",
        "        print('Nope. You are really bad at this game.')"
      ],
      "execution_count": 14,
      "outputs": [
        {
          "output_type": "stream",
          "text": [
            "Guess the coin toss! Enter heads or tails:\n",
            "tails\n",
            "tails\n",
            "You got it!\n"
          ],
          "name": "stdout"
        }
      ]
    }
  ]
}
