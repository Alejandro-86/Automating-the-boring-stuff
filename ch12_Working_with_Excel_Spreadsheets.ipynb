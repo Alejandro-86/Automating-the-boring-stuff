{
  "nbformat": 4,
  "nbformat_minor": 0,
  "metadata": {
    "colab": {
      "name": "ch12_Working with Excel Spreadsheets.ipynb",
      "provenance": []
    },
    "kernelspec": {
      "name": "python3",
      "display_name": "Python 3"
    }
  },
  "cells": [
    {
      "cell_type": "markdown",
      "metadata": {
        "id": "KeKb3Z2YpiqA",
        "colab_type": "text"
      },
      "source": [
        "# Working with Excel Spreadsheets"
      ]
    },
    {
      "cell_type": "markdown",
      "metadata": {
        "id": "EPkZ09g-poWN",
        "colab_type": "text"
      },
      "source": [
        "## Use openpyxl Module"
      ]
    },
    {
      "cell_type": "code",
      "metadata": {
        "id": "bf7M2MC34V90",
        "colab_type": "code",
        "colab": {
          "base_uri": "https://localhost:8080/",
          "height": 67
        },
        "outputId": "0d685c97-4bb9-4d1f-ed5b-e0390a3fd64e"
      },
      "source": [
        "import openpyxl\n",
        "import pprint\n",
        "\n",
        "wb = openpyxl.load_workbook('Example.xlsx')\n",
        "sheet = wb.active\n",
        "\n",
        "print(sheet['A1'].value)\n",
        "print(sheet['C1'].value)\n",
        "c = sheet['B1']\n",
        "\n",
        "\n",
        "'Row ' + str(c.row) + ', Column ' + c.column + ' is ' + c.value\n",
        "\n",
        "\n"
      ],
      "execution_count": 45,
      "outputs": [
        {
          "output_type": "stream",
          "text": [
            "2015-05-04 13:34:02\n",
            "73\n"
          ],
          "name": "stdout"
        },
        {
          "output_type": "execute_result",
          "data": {
            "text/plain": [
              "'Row 1, Column B is Apples'"
            ]
          },
          "metadata": {
            "tags": []
          },
          "execution_count": 45
        }
      ]
    },
    {
      "cell_type": "code",
      "metadata": {
        "id": "VWC5G87578fL",
        "colab_type": "code",
        "colab": {
          "base_uri": "https://localhost:8080/",
          "height": 117
        },
        "outputId": "e0ee8da9-dfb1-4fc2-dc71-1a1ee8f761ab"
      },
      "source": [
        "print(sheet.cell(row = 1, column=2))\n",
        "print(sheet.cell(row = 1, column=2).value)\n",
        "for i in range(1, 8 ,2):\n",
        "  print(i, sheet.cell(row = i, column = 2).value)"
      ],
      "execution_count": 2,
      "outputs": [
        {
          "output_type": "stream",
          "text": [
            "<Cell 'Sheet1'.B1>\n",
            "Apples\n",
            "1 Apples\n",
            "3 Pears\n",
            "5 Apples\n",
            "7 Strawberries\n"
          ],
          "name": "stdout"
        }
      ]
    },
    {
      "cell_type": "code",
      "metadata": {
        "id": "KZuBggHZTEL6",
        "colab_type": "code",
        "colab": {
          "base_uri": "https://localhost:8080/",
          "height": 117
        },
        "outputId": "3e5f6125-ab91-451c-ea56-2a829a4d3744"
      },
      "source": [
        "from openpyxl.utils import get_column_letter, column_index_from_string\n",
        "print(sheet.max_row, sheet.max_column,'\\n')\n",
        "\n",
        "print(get_column_letter(1))\n",
        "print(get_column_letter(2))\n",
        "print(get_column_letter(27))\n",
        "print(get_column_letter(900))\n"
      ],
      "execution_count": 13,
      "outputs": [
        {
          "output_type": "stream",
          "text": [
            "7 3 \n",
            "\n",
            "A\n",
            "B\n",
            "AA\n",
            "AHP\n"
          ],
          "name": "stdout"
        }
      ]
    },
    {
      "cell_type": "code",
      "metadata": {
        "id": "qYhCBSDgVRaW",
        "colab_type": "code",
        "colab": {
          "base_uri": "https://localhost:8080/",
          "height": 67
        },
        "outputId": "519c9b6c-b091-4244-d733-f6e43afe85e9"
      },
      "source": [
        "print(get_column_letter(sheet.max_column))\n",
        "print(column_index_from_string('A'))\n",
        "print(column_index_from_string('AA'))\n"
      ],
      "execution_count": 15,
      "outputs": [
        {
          "output_type": "stream",
          "text": [
            "C\n",
            "1\n",
            "27\n"
          ],
          "name": "stdout"
        }
      ]
    },
    {
      "cell_type": "code",
      "metadata": {
        "id": "rshYQ795VdDH",
        "colab_type": "code",
        "colab": {
          "base_uri": "https://localhost:8080/",
          "height": 254
        },
        "outputId": "66990e16-a076-4d47-eb0e-b00773d170ed"
      },
      "source": [
        "print(tuple(sheet['A1':'C3']))\n",
        "for row in sheet['A1':'C3']:\n",
        "  for cell in row:\n",
        "    print(cell.coordinate, cell.value)\n",
        "  print('---End of Row---')"
      ],
      "execution_count": 19,
      "outputs": [
        {
          "output_type": "stream",
          "text": [
            "((<Cell 'Sheet1'.A1>, <Cell 'Sheet1'.B1>, <Cell 'Sheet1'.C1>), (<Cell 'Sheet1'.A2>, <Cell 'Sheet1'.B2>, <Cell 'Sheet1'.C2>), (<Cell 'Sheet1'.A3>, <Cell 'Sheet1'.B3>, <Cell 'Sheet1'.C3>))\n",
            "A1 2015-05-04 13:34:02\n",
            "B1 Apples\n",
            "C1 73\n",
            "---End of Row---\n",
            "A2 2015-05-04 03:41:23\n",
            "B2 Cherries\n",
            "C2 85\n",
            "---End of Row---\n",
            "A3 2015-06-04 12:46:51\n",
            "B3 Pears\n",
            "C3 14\n",
            "---End of Row---\n"
          ],
          "name": "stdout"
        }
      ]
    },
    {
      "cell_type": "code",
      "metadata": {
        "id": "2XZreTU5WJGF",
        "colab_type": "code",
        "colab": {
          "base_uri": "https://localhost:8080/",
          "height": 134
        },
        "outputId": "5abc0901-28ca-49ea-e51e-df0da55b2165"
      },
      "source": [
        "for c in list(sheet.columns)[1]:\n",
        "  print(c.value)"
      ],
      "execution_count": 30,
      "outputs": [
        {
          "output_type": "stream",
          "text": [
            "Apples\n",
            "Cherries\n",
            "Pears\n",
            "Oranges\n",
            "Apples\n",
            "Bananas\n",
            "Strawberries\n"
          ],
          "name": "stdout"
        }
      ]
    },
    {
      "cell_type": "code",
      "metadata": {
        "id": "hGjh4rHtYmyQ",
        "colab_type": "code",
        "colab": {
          "base_uri": "https://localhost:8080/",
          "height": 33
        },
        "outputId": "716fce5d-59c0-47dc-c2f2-79514744d830"
      },
      "source": [
        "wb = openpyxl.load_workbook('censuspopdata.xlsx')\n",
        "sheet = wb.active\n",
        "sheet"
      ],
      "execution_count": 66,
      "outputs": [
        {
          "output_type": "execute_result",
          "data": {
            "text/plain": [
              "<Worksheet \"Population by Census Tract\">"
            ]
          },
          "metadata": {
            "tags": []
          },
          "execution_count": 66
        }
      ]
    },
    {
      "cell_type": "code",
      "metadata": {
        "id": "Xw4-Q13vZkTw",
        "colab_type": "code",
        "colab": {
          "base_uri": "https://localhost:8080/",
          "height": 33
        },
        "outputId": "f6c28bb4-4a8b-432a-ac63-0747a14cbe0a"
      },
      "source": [
        "countyData = {}\n",
        "print('Reading rows...')\n",
        "for row in range(2, sheet.max_row +1):\n",
        "  state = sheet['B' + str(row)].value\n",
        "  county = sheet['C' + str(row)].value\n",
        "  pop = sheet['D' + str(row)].value\n",
        "  countyData.setdefault(state, {})\n",
        "  countyData[state].setdefault(county, {'tracts': 0, 'pop': 0})\n",
        "  countyData[state][county]['tracts'] += 1\n",
        "  countyData[state][county]['pop'] += int(pop)"
      ],
      "execution_count": 40,
      "outputs": [
        {
          "output_type": "stream",
          "text": [
            "Reading rows...\n"
          ],
          "name": "stdout"
        }
      ]
    },
    {
      "cell_type": "code",
      "metadata": {
        "id": "_ulL6pM0aI7y",
        "colab_type": "code",
        "colab": {
          "base_uri": "https://localhost:8080/",
          "height": 50
        },
        "outputId": "ec5b20b4-e3da-4864-c8b2-1b75ab474c89"
      },
      "source": [
        "print('Writing results...')\n",
        "resultFile = open('census2010.py', 'w')\n",
        "resultFile.write('allData = ' + pprint.pformat(countyData))\n",
        "resultFile.close()\n",
        "print('Done.')\n"
      ],
      "execution_count": 47,
      "outputs": [
        {
          "output_type": "stream",
          "text": [
            "Writing results...\n",
            "Done.\n"
          ],
          "name": "stdout"
        }
      ]
    },
    {
      "cell_type": "code",
      "metadata": {
        "id": "wsBWycgBdIXp",
        "colab_type": "code",
        "colab": {
          "base_uri": "https://localhost:8080/",
          "height": 50
        },
        "outputId": "e51dbf3c-0112-4842-8471-1a606136f5cc"
      },
      "source": [
        "import os\n",
        "import census2010\n",
        "\n",
        "print(census2010.allData['AK']['Anchorage'])\n",
        "\n",
        "anchoragePop = census2010.allData['AK']['Anchorage']['pop']\n",
        "print('The 2010 population of Anchorage was ' + str(anchoragePop))\n"
      ],
      "execution_count": 52,
      "outputs": [
        {
          "output_type": "stream",
          "text": [
            "{'pop': 291826, 'tracts': 55}\n",
            "The 2010 population of Anchorage was 291826\n"
          ],
          "name": "stdout"
        }
      ]
    },
    {
      "cell_type": "code",
      "metadata": {
        "id": "iR3XLea5nEjI",
        "colab_type": "code",
        "colab": {}
      },
      "source": [
        "pop = []\n",
        "for cell in sheet['D'][1:]:\n",
        "  pop.append(cell.value)"
      ],
      "execution_count": 0,
      "outputs": []
    },
    {
      "cell_type": "code",
      "metadata": {
        "id": "n85KZpD5pP_9",
        "colab_type": "code",
        "colab": {
          "base_uri": "https://localhost:8080/",
          "height": 33
        },
        "outputId": "ad8ca747-a74f-4136-e327-c62aa96b824f"
      },
      "source": [
        "print(min(pop), max(pop))"
      ],
      "execution_count": 81,
      "outputs": [
        {
          "output_type": "stream",
          "text": [
            "0 37452\n"
          ],
          "name": "stdout"
        }
      ]
    },
    {
      "cell_type": "markdown",
      "metadata": {
        "id": "78i7gxDApwmi",
        "colab_type": "text"
      },
      "source": [
        "## Writing Excel Documents\n"
      ]
    },
    {
      "cell_type": "markdown",
      "metadata": {
        "id": "b1c1p_mtq_nZ",
        "colab_type": "text"
      },
      "source": [
        "Creating a new excel File"
      ]
    },
    {
      "cell_type": "code",
      "metadata": {
        "id": "zAfW-vgzp33R",
        "colab_type": "code",
        "colab": {
          "base_uri": "https://localhost:8080/",
          "height": 33
        },
        "outputId": "0e3445f3-5bff-40f1-8d81-d484e5848316"
      },
      "source": [
        "wb = openpyxl.Workbook()\n",
        "wb.save('test.xlsx')\n",
        "wb.sheetnames"
      ],
      "execution_count": 97,
      "outputs": [
        {
          "output_type": "execute_result",
          "data": {
            "text/plain": [
              "['Sheet']"
            ]
          },
          "metadata": {
            "tags": []
          },
          "execution_count": 97
        }
      ]
    },
    {
      "cell_type": "code",
      "metadata": {
        "id": "HbAb44bTrGbt",
        "colab_type": "code",
        "colab": {}
      },
      "source": [
        "sheet = wb.active\n",
        "sheet.title = 'Spam Bacon Eggs Sheet'"
      ],
      "execution_count": 0,
      "outputs": []
    },
    {
      "cell_type": "code",
      "metadata": {
        "id": "EgOrwpK4rcO3",
        "colab_type": "code",
        "colab": {
          "base_uri": "https://localhost:8080/",
          "height": 33
        },
        "outputId": "90a7236a-f09c-400d-dd96-73e4191c5a15"
      },
      "source": [
        "wb.create_sheet(index = 0, title='First Sheet')\n",
        "wb.sheetnames"
      ],
      "execution_count": 101,
      "outputs": [
        {
          "output_type": "execute_result",
          "data": {
            "text/plain": [
              "['First Sheet', 'Spam Bacon Eggs Sheet', 'Sheet', 'Sheet1']"
            ]
          },
          "metadata": {
            "tags": []
          },
          "execution_count": 101
        }
      ]
    },
    {
      "cell_type": "code",
      "metadata": {
        "id": "yYB7wIUprpRv",
        "colab_type": "code",
        "colab": {
          "base_uri": "https://localhost:8080/",
          "height": 170
        },
        "outputId": "65032eb0-3139-4ac8-8937-4d2ed39d6bed"
      },
      "source": [
        "wb.remove_sheet(wb.get_sheet_by_name('Sheet'))\n",
        "wb.remove_sheet(wb.get_sheet_by_name('Sheet1'))"
      ],
      "execution_count": 103,
      "outputs": [
        {
          "output_type": "stream",
          "text": [
            "/usr/local/lib/python3.6/dist-packages/ipykernel_launcher.py:1: DeprecationWarning: Call to deprecated function get_sheet_by_name (Use wb[sheetname]).\n",
            "  \"\"\"Entry point for launching an IPython kernel.\n",
            "/usr/local/lib/python3.6/dist-packages/ipykernel_launcher.py:1: DeprecationWarning: Call to deprecated function remove_sheet (Use wb.remove(worksheet) or del wb[sheetname]).\n",
            "  \"\"\"Entry point for launching an IPython kernel.\n",
            "/usr/local/lib/python3.6/dist-packages/ipykernel_launcher.py:2: DeprecationWarning: Call to deprecated function get_sheet_by_name (Use wb[sheetname]).\n",
            "  \n",
            "/usr/local/lib/python3.6/dist-packages/ipykernel_launcher.py:2: DeprecationWarning: Call to deprecated function remove_sheet (Use wb.remove(worksheet) or del wb[sheetname]).\n",
            "  \n"
          ],
          "name": "stderr"
        }
      ]
    },
    {
      "cell_type": "code",
      "metadata": {
        "id": "2FHgJSv-r-FX",
        "colab_type": "code",
        "colab": {
          "base_uri": "https://localhost:8080/",
          "height": 33
        },
        "outputId": "afdfd28d-da31-45c3-f25c-f89f326e4bfa"
      },
      "source": [
        "wb.sheetnames"
      ],
      "execution_count": 104,
      "outputs": [
        {
          "output_type": "execute_result",
          "data": {
            "text/plain": [
              "['First Sheet', 'Spam Bacon Eggs Sheet']"
            ]
          },
          "metadata": {
            "tags": []
          },
          "execution_count": 104
        }
      ]
    },
    {
      "cell_type": "code",
      "metadata": {
        "id": "z4n-RJX8sDIc",
        "colab_type": "code",
        "colab": {
          "base_uri": "https://localhost:8080/",
          "height": 33
        },
        "outputId": "8b9c3b69-9f6b-4047-c68b-d9ecab3d72b5"
      },
      "source": [
        "sheet = wb['First Sheet']\n",
        "sheet['A1'] = 'Hellow world !'\n",
        "sheet['A1'].value"
      ],
      "execution_count": 109,
      "outputs": [
        {
          "output_type": "execute_result",
          "data": {
            "text/plain": [
              "'Hellow world !'"
            ]
          },
          "metadata": {
            "tags": []
          },
          "execution_count": 109
        }
      ]
    }
  ]
}